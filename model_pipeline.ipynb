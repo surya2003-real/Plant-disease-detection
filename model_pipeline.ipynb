{
 "cells": [
  {
   "cell_type": "code",
   "execution_count": 1,
   "metadata": {},
   "outputs": [
    {
     "name": "stderr",
     "output_type": "stream",
     "text": [
      "2023-11-11 19:54:44.973082: E tensorflow/compiler/xla/stream_executor/cuda/cuda_dnn.cc:9342] Unable to register cuDNN factory: Attempting to register factory for plugin cuDNN when one has already been registered\n",
      "2023-11-11 19:54:44.973115: E tensorflow/compiler/xla/stream_executor/cuda/cuda_fft.cc:609] Unable to register cuFFT factory: Attempting to register factory for plugin cuFFT when one has already been registered\n",
      "2023-11-11 19:54:44.973149: E tensorflow/compiler/xla/stream_executor/cuda/cuda_blas.cc:1518] Unable to register cuBLAS factory: Attempting to register factory for plugin cuBLAS when one has already been registered\n",
      "/usr/lib/python3/dist-packages/scipy/__init__.py:146: UserWarning: A NumPy version >=1.17.3 and <1.25.0 is required for this version of SciPy (detected version 1.26.1\n",
      "  warnings.warn(f\"A NumPy version >={np_minversion} and <{np_maxversion}\"\n"
     ]
    }
   ],
   "source": [
    "# Import necessary libraries\n",
    "from ultralytics import YOLO\n",
    "from tensorflow.keras.models import load_model\n",
    "import numpy as np\n",
    "import tensorflow as tf\n",
    "from PIL import Image as PILImage\n",
    "import io\n",
    "from IPython.display import Image, display\n",
    "from PIL import Image as PILImage\n",
    "import numpy as np\n",
    "import tensorflow as tf\n",
    "import io\n",
    "import os\n",
    "import pandas as pd\n",
    "import torch\n",
    "import json\n",
    "from torch import float32, tensor\n",
    "import torchmetrics\n",
    "import cv2\n"
   ]
  },
  {
   "cell_type": "code",
   "execution_count": 2,
   "metadata": {},
   "outputs": [],
   "source": [
    "import os\n",
    "import shutil\n",
    "\n",
    "# Source directory containing images\n",
    "src_dir = './TRAIN'\n",
    "\n",
    "# Destination directory to copy images\n",
    "dst_dir = './TEST'\n",
    "\n",
    "# Check if destination directory exists, create it if it doesn't\n",
    "if not os.path.exists(dst_dir):\n",
    "    os.makedirs(dst_dir)\n",
    "\n",
    "# Loop through all files in source directory\n",
    "for file_name in os.listdir(src_dir):\n",
    "    # Check if file ends with .jpg\n",
    "    if len(os.listdir(dst_dir)) == 50:\n",
    "        break\n",
    "    if file_name.endswith('.jpg'):\n",
    "        # Construct full file paths\n",
    "        src_path = os.path.join(src_dir, file_name)\n",
    "        dst_path = os.path.join(dst_dir, file_name)\n",
    "        # Copy file to destination directory\n",
    "        shutil.copy(src_path, dst_path)\n",
    "\n",
    "\n"
   ]
  },
  {
   "cell_type": "code",
   "execution_count": 3,
   "metadata": {},
   "outputs": [],
   "source": [
    "device = torch.device('cuda' if torch.cuda.is_available() else 'cpu')\n",
    "# Load the YOLO model\n",
    "yolo_model = YOLO('./best.pt').to(device)\n",
    "# Load the ResNet50 model\n",
    "model2 = load_model('./model_resnet50.h5')\n",
    "\n",
    "# Class mapping\n",
    "class_mapping = {'Apple Scab Leaf': 0, 'Apple leaf': 1, 'Apple rust leaf': 2, 'Bell_pepper leaf': 3, 'Bell_pepper leaf spot': 4, 'Blueberry leaf': 5, 'Cherry leaf': 6, 'Corn Gray leaf spot': 7, 'Corn leaf blight': 8, 'Corn rust leaf': 9, 'Peach leaf': 10, 'Potato leaf': 11, 'Potato leaf early blight': 12, 'Potato leaf late blight': 13, 'Raspberry leaf': 14, 'Soyabean leaf': 15, 'Squash Powdery mildew leaf': 16, 'Strawberry leaf': 17, 'Tomato Early blight leaf': 18, 'Tomato Septoria leaf spot': 19, 'Tomato leaf': 20, 'Tomato leaf bacterial spot': 21, 'Tomato leaf late blight': 22, 'Tomato leaf mosaic virus': 23, 'Tomato leaf yellow virus': 24, 'Tomato mold leaf': 25, 'Tomato two spotted spider mites leaf': 26, 'grape leaf': 27, 'grape leaf black rot': 28}\n",
    "\n",
    "# Directory containing images to predict\n",
    "directory = './TEST'"
   ]
  },
  {
   "cell_type": "code",
   "execution_count": 4,
   "metadata": {},
   "outputs": [],
   "source": [
    "import matplotlib.pyplot as plt\n",
    "%matplotlib inline"
   ]
  },
  {
   "cell_type": "code",
   "execution_count": 5,
   "metadata": {},
   "outputs": [
    {
     "name": "stderr",
     "output_type": "stream",
     "text": [
      "\n",
      "image 1/1 /home/suryansh/Documents/GitHub/Plant-disease-detection/TEST/image022.jpg: 480x640 4 leafs, 89.9ms\n",
      "Speed: 2.6ms preprocess, 89.9ms inference, 230.5ms postprocess per image at shape (1, 3, 480, 640)\n"
     ]
    },
    {
     "name": "stdout",
     "output_type": "stream",
     "text": [
      "1/1 [==============================] - 1s 1s/step\n",
      "5   2\n",
      "1/1 [==============================] - 0s 20ms/step\n",
      "5   1\n",
      "1/1 [==============================] - 0s 19ms/step\n",
      "5   3\n",
      "1/1 [==============================] - 0s 16ms/step\n"
     ]
    },
    {
     "name": "stderr",
     "output_type": "stream",
     "text": [
      "\n",
      "image 1/1 /home/suryansh/Documents/GitHub/Plant-disease-detection/TEST/green-pepper-plant-diseases-bacterial-spot-on-pepper-plant-green-pepper-plant-diseases-photos.jpg: 480x640 5 leafs, 6.3ms\n",
      "Speed: 1.8ms preprocess, 6.3ms inference, 1.4ms postprocess per image at shape (1, 3, 480, 640)\n"
     ]
    },
    {
     "name": "stdout",
     "output_type": "stream",
     "text": [
      "5   4\n",
      "1/1 [==============================] - 0s 16ms/step\n",
      "5   1\n",
      "1/1 [==============================] - 0s 16ms/step\n",
      "5   3\n",
      "1/1 [==============================] - 0s 15ms/step\n",
      "5   0\n",
      "1/1 [==============================] - 0s 18ms/step\n",
      "5   2\n",
      "1/1 [==============================] - 0s 19ms/step\n"
     ]
    },
    {
     "name": "stderr",
     "output_type": "stream",
     "text": [
      "\n"
     ]
    },
    {
     "name": "stdout",
     "output_type": "stream",
     "text": [
      "5   4\n"
     ]
    },
    {
     "name": "stderr",
     "output_type": "stream",
     "text": [
      "image 1/1 /home/suryansh/Documents/GitHub/Plant-disease-detection/TEST/IMG_2684.JPG.jpg: 640x480 6 leafs, 95.9ms\n",
      "Speed: 2.4ms preprocess, 95.9ms inference, 1.3ms postprocess per image at shape (1, 3, 640, 480)\n"
     ]
    },
    {
     "name": "stdout",
     "output_type": "stream",
     "text": [
      "1/1 [==============================] - 0s 15ms/step\n",
      "6   2\n",
      "1/1 [==============================] - 0s 15ms/step\n",
      "6   3\n",
      "1/1 [==============================] - 0s 17ms/step\n",
      "6   4\n",
      "1/1 [==============================] - 0s 15ms/step\n",
      "6   1\n",
      "1/1 [==============================] - 0s 19ms/step\n",
      "6   2\n",
      "1/1 [==============================] - 0s 16ms/step\n"
     ]
    },
    {
     "name": "stderr",
     "output_type": "stream",
     "text": [
      "\n"
     ]
    },
    {
     "name": "stdout",
     "output_type": "stream",
     "text": [
      "6   4\n"
     ]
    },
    {
     "name": "stderr",
     "output_type": "stream",
     "text": [
      "image 1/1 /home/suryansh/Documents/GitHub/Plant-disease-detection/TEST/potato-early-blight-alternaria-alternata-lesions-on-potato-leaf-XDF64E.jpg: 640x608 3 leafs, 83.5ms\n",
      "Speed: 2.5ms preprocess, 83.5ms inference, 1.2ms postprocess per image at shape (1, 3, 640, 608)\n"
     ]
    },
    {
     "name": "stdout",
     "output_type": "stream",
     "text": [
      "1/1 [==============================] - 0s 16ms/step\n",
      "4   0\n",
      "1/1 [==============================] - 0s 16ms/step\n",
      "4   1\n",
      "1/1 [==============================] - 0s 15ms/step\n"
     ]
    },
    {
     "name": "stderr",
     "output_type": "stream",
     "text": [
      "\n"
     ]
    },
    {
     "name": "stdout",
     "output_type": "stream",
     "text": [
      "4   3\n"
     ]
    },
    {
     "name": "stderr",
     "output_type": "stream",
     "text": [
      "image 1/1 /home/suryansh/Documents/GitHub/Plant-disease-detection/TEST/dc9rk7rKi.jpg: 448x640 5 leafs, 81.3ms\n",
      "Speed: 2.1ms preprocess, 81.3ms inference, 1.3ms postprocess per image at shape (1, 3, 448, 640)\n"
     ]
    },
    {
     "name": "stdout",
     "output_type": "stream",
     "text": [
      "1/1 [==============================] - 0s 15ms/step\n",
      "4   0\n",
      "1/1 [==============================] - 0s 18ms/step\n",
      "4   1\n",
      "1/1 [==============================] - 0s 21ms/step\n",
      "4   1\n",
      "1/1 [==============================] - 0s 20ms/step\n",
      "4   2\n",
      "1/1 [==============================] - 0s 19ms/step\n"
     ]
    },
    {
     "name": "stderr",
     "output_type": "stream",
     "text": [
      "\n"
     ]
    },
    {
     "name": "stdout",
     "output_type": "stream",
     "text": [
      "4   3\n"
     ]
    },
    {
     "name": "stderr",
     "output_type": "stream",
     "text": [
      "image 1/1 /home/suryansh/Documents/GitHub/Plant-disease-detection/TEST/171322132-56a6d3693df78cf7729070d3.jpg: 448x640 4 leafs, 5.6ms\n",
      "Speed: 2.6ms preprocess, 5.6ms inference, 1.6ms postprocess per image at shape (1, 3, 448, 640)\n"
     ]
    },
    {
     "name": "stdout",
     "output_type": "stream",
     "text": [
      "1/1 [==============================] - 0s 19ms/step\n",
      "1   0\n",
      "1/1 [==============================] - 0s 17ms/step\n",
      "1   0\n",
      "1/1 [==============================] - 0s 17ms/step\n",
      "1   0\n",
      "1/1 [==============================] - 0s 15ms/step\n"
     ]
    },
    {
     "name": "stderr",
     "output_type": "stream",
     "text": [
      "\n"
     ]
    },
    {
     "name": "stdout",
     "output_type": "stream",
     "text": [
      "1   0\n"
     ]
    },
    {
     "name": "stderr",
     "output_type": "stream",
     "text": [
      "image 1/1 /home/suryansh/Documents/GitHub/Plant-disease-detection/TEST/IMG_20150721_144405.jpg: 640x480 4 leafs, 7.3ms\n",
      "Speed: 1.9ms preprocess, 7.3ms inference, 1.4ms postprocess per image at shape (1, 3, 640, 480)\n"
     ]
    },
    {
     "name": "stdout",
     "output_type": "stream",
     "text": [
      "1/1 [==============================] - 0s 15ms/step\n",
      "2   0\n",
      "1/1 [==============================] - 0s 15ms/step\n",
      "2   1\n",
      "1/1 [==============================] - 0s 15ms/step\n",
      "2   0\n",
      "1/1 [==============================] - 0s 15ms/step\n"
     ]
    },
    {
     "name": "stderr",
     "output_type": "stream",
     "text": [
      "\n"
     ]
    },
    {
     "name": "stdout",
     "output_type": "stream",
     "text": [
      "2   0\n"
     ]
    },
    {
     "name": "stderr",
     "output_type": "stream",
     "text": [
      "image 1/1 /home/suryansh/Documents/GitHub/Plant-disease-detection/TEST/earlyblighttomato.jpg: 640x448 1 leaf, 76.5ms\n",
      "Speed: 2.0ms preprocess, 76.5ms inference, 1.6ms postprocess per image at shape (1, 3, 640, 448)\n"
     ]
    },
    {
     "name": "stdout",
     "output_type": "stream",
     "text": [
      "1/1 [==============================] - 0s 16ms/step\n"
     ]
    },
    {
     "name": "stderr",
     "output_type": "stream",
     "text": [
      "\n"
     ]
    },
    {
     "name": "stdout",
     "output_type": "stream",
     "text": [
      "1   0\n"
     ]
    },
    {
     "name": "stderr",
     "output_type": "stream",
     "text": [
      "image 1/1 /home/suryansh/Documents/GitHub/Plant-disease-detection/TEST/potato-early-blight-alternaria-alternata-lesions-on-a-potato-leaf-by650f.jpg: 544x640 4 leafs, 77.0ms\n",
      "Speed: 1.8ms preprocess, 77.0ms inference, 1.3ms postprocess per image at shape (1, 3, 544, 640)\n"
     ]
    },
    {
     "name": "stdout",
     "output_type": "stream",
     "text": [
      "1/1 [==============================] - 0s 19ms/step\n",
      "3   0\n",
      "1/1 [==============================] - 0s 17ms/step\n",
      "3   2\n",
      "1/1 [==============================] - 0s 16ms/step\n",
      "3   1\n",
      "1/1 [==============================] - 0s 16ms/step\n"
     ]
    },
    {
     "name": "stderr",
     "output_type": "stream",
     "text": [
      "\n"
     ]
    },
    {
     "name": "stdout",
     "output_type": "stream",
     "text": [
      "3   2\n"
     ]
    },
    {
     "name": "stderr",
     "output_type": "stream",
     "text": [
      "image 1/1 /home/suryansh/Documents/GitHub/Plant-disease-detection/TEST/87985926-1-56a349f35f9b58b7d0d14d82.jpg: 448x640 3 leafs, 6.3ms\n",
      "Speed: 1.8ms preprocess, 6.3ms inference, 1.4ms postprocess per image at shape (1, 3, 448, 640)\n"
     ]
    },
    {
     "name": "stdout",
     "output_type": "stream",
     "text": [
      "1/1 [==============================] - 0s 15ms/step\n",
      "5   2\n",
      "1/1 [==============================] - 0s 16ms/step\n",
      "5   0\n",
      "1/1 [==============================] - 0s 16ms/step\n"
     ]
    },
    {
     "name": "stderr",
     "output_type": "stream",
     "text": [
      "\n",
      "image 1/1 /home/suryansh/Documents/GitHub/Plant-disease-detection/TEST/220px-Guignardia_bidwellii_08.jpg: 448x640 3 leafs, 6.0ms\n",
      "Speed: 1.6ms preprocess, 6.0ms inference, 1.7ms postprocess per image at shape (1, 3, 448, 640)\n"
     ]
    },
    {
     "name": "stdout",
     "output_type": "stream",
     "text": [
      "5   3\n",
      "1/1 [==============================] - 0s 16ms/step\n",
      "3   1\n",
      "1/1 [==============================] - 0s 16ms/step\n",
      "3   0\n",
      "1/1 [==============================] - 0s 15ms/step\n"
     ]
    },
    {
     "name": "stderr",
     "output_type": "stream",
     "text": [
      "\n"
     ]
    },
    {
     "name": "stdout",
     "output_type": "stream",
     "text": [
      "3   2\n"
     ]
    },
    {
     "name": "stderr",
     "output_type": "stream",
     "text": [
      "image 1/1 /home/suryansh/Documents/GitHub/Plant-disease-detection/TEST/tylc.jpg: 512x640 16 leafs, 82.0ms\n",
      "Speed: 2.0ms preprocess, 82.0ms inference, 1.4ms postprocess per image at shape (1, 3, 512, 640)\n"
     ]
    },
    {
     "name": "stdout",
     "output_type": "stream",
     "text": [
      "1/1 [==============================] - 0s 16ms/step\n",
      "5   4\n",
      "1/1 [==============================] - 0s 16ms/step\n",
      "5   3\n",
      "1/1 [==============================] - 0s 16ms/step\n",
      "5   0\n",
      "1/1 [==============================] - 0s 15ms/step\n",
      "5   0\n",
      "1/1 [==============================] - 0s 17ms/step\n",
      "5   2\n",
      "1/1 [==============================] - 0s 17ms/step\n",
      "5   1\n",
      "1/1 [==============================] - 0s 17ms/step\n",
      "5   4\n",
      "1/1 [==============================] - 0s 17ms/step\n",
      "5   0\n",
      "1/1 [==============================] - 0s 15ms/step\n",
      "5   0\n",
      "1/1 [==============================] - 0s 16ms/step\n",
      "5   2\n",
      "1/1 [==============================] - 0s 15ms/step\n",
      "5   0\n",
      "1/1 [==============================] - 0s 18ms/step\n",
      "5   0\n",
      "1/1 [==============================] - 0s 21ms/step\n",
      "5   2\n",
      "1/1 [==============================] - 0s 18ms/step\n",
      "5   2\n",
      "1/1 [==============================] - 0s 19ms/step\n",
      "5   2\n",
      "1/1 [==============================] - 0s 21ms/step\n"
     ]
    },
    {
     "name": "stderr",
     "output_type": "stream",
     "text": [
      "\n"
     ]
    },
    {
     "name": "stdout",
     "output_type": "stream",
     "text": [
      "5   0\n"
     ]
    },
    {
     "name": "stderr",
     "output_type": "stream",
     "text": [
      "image 1/1 /home/suryansh/Documents/GitHub/Plant-disease-detection/TEST/strawberry-leaves-14363903.jpg: 576x640 3 leafs, 86.8ms\n",
      "Speed: 2.1ms preprocess, 86.8ms inference, 1.4ms postprocess per image at shape (1, 3, 576, 640)\n"
     ]
    },
    {
     "name": "stdout",
     "output_type": "stream",
     "text": [
      "1/1 [==============================] - 0s 17ms/step\n",
      "3   0\n",
      "1/1 [==============================] - 0s 17ms/step\n",
      "3   1\n",
      "1/1 [==============================] - 0s 15ms/step\n"
     ]
    },
    {
     "name": "stderr",
     "output_type": "stream",
     "text": [
      "\n",
      "image 1/1 /home/suryansh/Documents/GitHub/Plant-disease-detection/TEST/common-rust-lower-leaf-side.jpg: 448x640 1 leaf, 6.5ms\n",
      "Speed: 1.8ms preprocess, 6.5ms inference, 1.5ms postprocess per image at shape (1, 3, 448, 640)\n"
     ]
    },
    {
     "name": "stdout",
     "output_type": "stream",
     "text": [
      "3   2\n",
      "1/1 [==============================] - 0s 15ms/step\n"
     ]
    },
    {
     "name": "stderr",
     "output_type": "stream",
     "text": [
      "\n"
     ]
    },
    {
     "name": "stdout",
     "output_type": "stream",
     "text": [
      "1   0\n"
     ]
    },
    {
     "name": "stderr",
     "output_type": "stream",
     "text": [
      "image 1/1 /home/suryansh/Documents/GitHub/Plant-disease-detection/TEST/grape2b.jpg: 480x640 8 leafs, 7.9ms\n",
      "Speed: 2.2ms preprocess, 7.9ms inference, 1.7ms postprocess per image at shape (1, 3, 480, 640)\n"
     ]
    },
    {
     "name": "stdout",
     "output_type": "stream",
     "text": [
      "1/1 [==============================] - 0s 18ms/step\n",
      "5   0\n",
      "1/1 [==============================] - 0s 18ms/step\n",
      "5   2\n",
      "1/1 [==============================] - 0s 19ms/step\n",
      "5   3\n",
      "1/1 [==============================] - 0s 20ms/step\n",
      "5   3\n",
      "1/1 [==============================] - 0s 19ms/step\n",
      "5   3\n",
      "1/1 [==============================] - 0s 18ms/step\n",
      "5   1\n",
      "1/1 [==============================] - 0s 16ms/step\n",
      "5   3\n",
      "1/1 [==============================] - 0s 15ms/step\n"
     ]
    },
    {
     "name": "stderr",
     "output_type": "stream",
     "text": [
      "\n"
     ]
    },
    {
     "name": "stdout",
     "output_type": "stream",
     "text": [
      "5   3\n"
     ]
    },
    {
     "name": "stderr",
     "output_type": "stream",
     "text": [
      "image 1/1 /home/suryansh/Documents/GitHub/Plant-disease-detection/TEST/late-blight-leaf-figure1.jpg: 320x640 1 leaf, 78.8ms\n",
      "Speed: 1.4ms preprocess, 78.8ms inference, 1.3ms postprocess per image at shape (1, 3, 320, 640)\n"
     ]
    },
    {
     "name": "stdout",
     "output_type": "stream",
     "text": [
      "1/1 [==============================] - 0s 15ms/step\n"
     ]
    },
    {
     "name": "stderr",
     "output_type": "stream",
     "text": [
      "\n",
      "image 1/1 /home/suryansh/Documents/GitHub/Plant-disease-detection/TEST/Black%20raspberry%20late%20leaf%20rust%20top%20view05F.JPG.jpg: 480x640 3 leafs, 7.3ms\n",
      "Speed: 2.1ms preprocess, 7.3ms inference, 1.6ms postprocess per image at shape (1, 3, 480, 640)\n"
     ]
    },
    {
     "name": "stdout",
     "output_type": "stream",
     "text": [
      "1   0\n",
      "1/1 [==============================] - 0s 19ms/step\n",
      "3   0\n",
      "1/1 [==============================] - 0s 19ms/step\n",
      "3   1\n",
      "1/1 [==============================] - 0s 19ms/step\n"
     ]
    },
    {
     "name": "stderr",
     "output_type": "stream",
     "text": [
      "\n"
     ]
    },
    {
     "name": "stdout",
     "output_type": "stream",
     "text": [
      "3   2\n"
     ]
    },
    {
     "name": "stderr",
     "output_type": "stream",
     "text": [
      "image 1/1 /home/suryansh/Documents/GitHub/Plant-disease-detection/TEST/cedar%20apple%20rust%20lower%20leaf%20haw%20S%202%20ne%20OH%20RA%209-2-16.jpg: 480x640 1 leaf, 6.8ms\n",
      "Speed: 2.9ms preprocess, 6.8ms inference, 1.4ms postprocess per image at shape (1, 3, 480, 640)\n"
     ]
    },
    {
     "name": "stdout",
     "output_type": "stream",
     "text": [
      "1/1 [==============================] - 0s 25ms/step\n"
     ]
    },
    {
     "name": "stderr",
     "output_type": "stream",
     "text": [
      "\n",
      "image 1/1 /home/suryansh/Documents/GitHub/Plant-disease-detection/TEST/Jessore-potato-late-blight-8-2h2fdkl.jpg: 640x480 4 leafs, 7.8ms\n",
      "Speed: 2.6ms preprocess, 7.8ms inference, 1.4ms postprocess per image at shape (1, 3, 640, 480)\n"
     ]
    },
    {
     "name": "stdout",
     "output_type": "stream",
     "text": [
      "1   0\n",
      "1/1 [==============================] - 0s 15ms/step\n",
      "3   0\n",
      "1/1 [==============================] - 0s 16ms/step\n",
      "3   1\n",
      "1/1 [==============================] - 0s 18ms/step\n",
      "3   0\n",
      "1/1 [==============================] - 0s 16ms/step\n"
     ]
    },
    {
     "name": "stderr",
     "output_type": "stream",
     "text": [
      "\n",
      "image 1/1 /home/suryansh/Documents/GitHub/Plant-disease-detection/TEST/ebleafb.jpg: 448x640 1 leaf, 6.2ms\n",
      "Speed: 2.1ms preprocess, 6.2ms inference, 1.5ms postprocess per image at shape (1, 3, 448, 640)\n"
     ]
    },
    {
     "name": "stdout",
     "output_type": "stream",
     "text": [
      "3   1\n",
      "1/1 [==============================] - 0s 18ms/step\n"
     ]
    },
    {
     "name": "stderr",
     "output_type": "stream",
     "text": [
      "\n",
      "image 1/1 /home/suryansh/Documents/GitHub/Plant-disease-detection/TEST/2013Corn_GrayLeafSpot_0815_0003.JPG.jpg: 352x640 1 leaf, 86.2ms\n",
      "Speed: 1.8ms preprocess, 86.2ms inference, 1.5ms postprocess per image at shape (1, 3, 352, 640)\n"
     ]
    },
    {
     "name": "stdout",
     "output_type": "stream",
     "text": [
      "1   0\n",
      "1/1 [==============================] - 0s 16ms/step\n"
     ]
    },
    {
     "name": "stderr",
     "output_type": "stream",
     "text": [
      "\n"
     ]
    },
    {
     "name": "stdout",
     "output_type": "stream",
     "text": [
      "1   0\n"
     ]
    },
    {
     "name": "stderr",
     "output_type": "stream",
     "text": [
      "image 1/1 /home/suryansh/Documents/GitHub/Plant-disease-detection/TEST/3-tomato-mosaic-virus_web.jpg: 640x480 3 leafs, 8.0ms\n",
      "Speed: 2.1ms preprocess, 8.0ms inference, 1.7ms postprocess per image at shape (1, 3, 640, 480)\n"
     ]
    },
    {
     "name": "stdout",
     "output_type": "stream",
     "text": [
      "1/1 [==============================] - 0s 15ms/step\n",
      "6   3\n",
      "1/1 [==============================] - 0s 15ms/step\n",
      "6   1\n",
      "1/1 [==============================] - 0s 17ms/step\n"
     ]
    },
    {
     "name": "stderr",
     "output_type": "stream",
     "text": [
      "\n",
      "image 1/1 /home/suryansh/Documents/GitHub/Plant-disease-detection/TEST/stock-photo-peach-leaves-isolated-on-white-background-618456884.jpg: 640x640 7 leafs, 8.4ms\n",
      "Speed: 2.1ms preprocess, 8.4ms inference, 1.5ms postprocess per image at shape (1, 3, 640, 640)\n"
     ]
    },
    {
     "name": "stdout",
     "output_type": "stream",
     "text": [
      "6   2\n",
      "1/1 [==============================] - 0s 18ms/step\n",
      "11   0\n",
      "1/1 [==============================] - 0s 17ms/step\n",
      "11   1\n",
      "1/1 [==============================] - 0s 17ms/step\n",
      "11   5\n",
      "1/1 [==============================] - 0s 20ms/step\n",
      "11   7\n",
      "1/1 [==============================] - 0s 18ms/step\n",
      "11   3\n",
      "1/1 [==============================] - 0s 19ms/step\n",
      "11   9\n",
      "1/1 [==============================] - 0s 17ms/step\n"
     ]
    },
    {
     "name": "stderr",
     "output_type": "stream",
     "text": [
      "\n"
     ]
    },
    {
     "name": "stdout",
     "output_type": "stream",
     "text": [
      "11   4\n"
     ]
    },
    {
     "name": "stderr",
     "output_type": "stream",
     "text": [
      "image 1/1 /home/suryansh/Documents/GitHub/Plant-disease-detection/TEST/blueberryleaves.jpg: 544x640 7 leafs, 7.4ms\n",
      "Speed: 2.2ms preprocess, 7.4ms inference, 1.4ms postprocess per image at shape (1, 3, 544, 640)\n"
     ]
    },
    {
     "name": "stdout",
     "output_type": "stream",
     "text": [
      "1/1 [==============================] - 0s 19ms/step\n",
      "5   0\n",
      "1/1 [==============================] - 0s 17ms/step\n",
      "5   3\n",
      "1/1 [==============================] - 0s 17ms/step\n",
      "5   2\n",
      "1/1 [==============================] - 0s 18ms/step\n",
      "5   1\n",
      "1/1 [==============================] - 0s 16ms/step\n",
      "5   4\n",
      "1/1 [==============================] - 0s 17ms/step\n",
      "5   4\n",
      "1/1 [==============================] - 0s 19ms/step\n"
     ]
    },
    {
     "name": "stderr",
     "output_type": "stream",
     "text": [
      "\n",
      "image 1/1 /home/suryansh/Documents/GitHub/Plant-disease-detection/TEST/file.php?id=16321&t=1.jpg: 480x640 7 leafs, 7.1ms\n",
      "Speed: 1.8ms preprocess, 7.1ms inference, 1.4ms postprocess per image at shape (1, 3, 480, 640)\n"
     ]
    },
    {
     "name": "stdout",
     "output_type": "stream",
     "text": [
      "5   4\n",
      "1/1 [==============================] - 0s 16ms/step\n",
      "3   2\n",
      "1/1 [==============================] - 0s 16ms/step\n",
      "3   0\n",
      "1/1 [==============================] - 0s 16ms/step\n",
      "3   0\n",
      "1/1 [==============================] - 0s 16ms/step\n",
      "3   0\n",
      "1/1 [==============================] - 0s 16ms/step\n",
      "3   0\n",
      "1/1 [==============================] - 0s 15ms/step\n",
      "3   1\n",
      "1/1 [==============================] - 0s 16ms/step\n"
     ]
    },
    {
     "name": "stderr",
     "output_type": "stream",
     "text": [
      "\n"
     ]
    },
    {
     "name": "stdout",
     "output_type": "stream",
     "text": [
      "3   1\n"
     ]
    },
    {
     "name": "stderr",
     "output_type": "stream",
     "text": [
      "image 1/1 /home/suryansh/Documents/GitHub/Plant-disease-detection/TEST/stock-photo-peach-fruits-with-leaf-isolated-on-white-background-639972919.jpg: 640x640 3 leafs, 8.2ms\n",
      "Speed: 2.0ms preprocess, 8.2ms inference, 1.2ms postprocess per image at shape (1, 3, 640, 640)\n"
     ]
    },
    {
     "name": "stdout",
     "output_type": "stream",
     "text": [
      "1/1 [==============================] - 0s 15ms/step\n",
      "2   0\n",
      "1/1 [==============================] - 0s 16ms/step\n",
      "2   1\n",
      "1/1 [==============================] - 0s 16ms/step\n"
     ]
    },
    {
     "name": "stderr",
     "output_type": "stream",
     "text": [
      "\n"
     ]
    },
    {
     "name": "stdout",
     "output_type": "stream",
     "text": [
      "2   0\n"
     ]
    },
    {
     "name": "stderr",
     "output_type": "stream",
     "text": [
      "image 1/1 /home/suryansh/Documents/GitHub/Plant-disease-detection/TEST/Concord-Grapes.jpg: 480x640 1 leaf, 7.3ms\n",
      "Speed: 3.0ms preprocess, 7.3ms inference, 1.4ms postprocess per image at shape (1, 3, 480, 640)\n"
     ]
    },
    {
     "name": "stdout",
     "output_type": "stream",
     "text": [
      "1/1 [==============================] - 0s 15ms/step\n"
     ]
    },
    {
     "name": "stderr",
     "output_type": "stream",
     "text": [
      "\n",
      "image 1/1 /home/suryansh/Documents/GitHub/Plant-disease-detection/TEST/Corn-Gray-leafspot-lesions-300x225.jpg: 480x640 1 leaf, 6.8ms\n",
      "Speed: 1.7ms preprocess, 6.8ms inference, 1.6ms postprocess per image at shape (1, 3, 480, 640)\n"
     ]
    },
    {
     "name": "stdout",
     "output_type": "stream",
     "text": [
      "1   0\n",
      "1/1 [==============================] - 0s 15ms/step\n"
     ]
    },
    {
     "name": "stderr",
     "output_type": "stream",
     "text": [
      "\n",
      "image 1/1 /home/suryansh/Documents/GitHub/Plant-disease-detection/TEST/leaf_mold_tomato7x1200.jpg: 608x640 1 leaf, 78.0ms\n",
      "Speed: 2.3ms preprocess, 78.0ms inference, 1.3ms postprocess per image at shape (1, 3, 608, 640)\n"
     ]
    },
    {
     "name": "stdout",
     "output_type": "stream",
     "text": [
      "1   0\n",
      "1/1 [==============================] - 0s 16ms/step\n"
     ]
    },
    {
     "name": "stderr",
     "output_type": "stream",
     "text": [
      "\n"
     ]
    },
    {
     "name": "stdout",
     "output_type": "stream",
     "text": [
      "1   0\n"
     ]
    },
    {
     "name": "stderr",
     "output_type": "stream",
     "text": [
      "image 1/1 /home/suryansh/Documents/GitHub/Plant-disease-detection/TEST/nPP7P.jpg: 480x640 1 leaf, 8.4ms\n",
      "Speed: 2.0ms preprocess, 8.4ms inference, 1.4ms postprocess per image at shape (1, 3, 480, 640)\n"
     ]
    },
    {
     "name": "stdout",
     "output_type": "stream",
     "text": [
      "1/1 [==============================] - 0s 18ms/step\n"
     ]
    },
    {
     "name": "stderr",
     "output_type": "stream",
     "text": [
      "\n",
      "image 1/1 /home/suryansh/Documents/GitHub/Plant-disease-detection/TEST/soybeans-glycine-max-with-leaves-e1hkcy.jpg: 512x640 12 leafs, 7.0ms\n",
      "Speed: 1.5ms preprocess, 7.0ms inference, 1.5ms postprocess per image at shape (1, 3, 512, 640)\n"
     ]
    },
    {
     "name": "stdout",
     "output_type": "stream",
     "text": [
      "1   0\n",
      "1/1 [==============================] - 0s 18ms/step\n",
      "5   0\n",
      "1/1 [==============================] - 0s 20ms/step\n",
      "5   1\n",
      "1/1 [==============================] - 0s 27ms/step\n",
      "5   2\n",
      "1/1 [==============================] - 0s 25ms/step\n",
      "5   3\n",
      "1/1 [==============================] - 0s 20ms/step\n",
      "5   1\n",
      "1/1 [==============================] - 0s 19ms/step\n",
      "5   4\n",
      "1/1 [==============================] - 0s 17ms/step\n",
      "5   2\n",
      "1/1 [==============================] - 0s 18ms/step\n",
      "5   1\n",
      "1/1 [==============================] - 0s 17ms/step\n",
      "5   4\n",
      "1/1 [==============================] - 0s 16ms/step\n",
      "5   4\n",
      "1/1 [==============================] - 0s 17ms/step\n",
      "5   1\n",
      "1/1 [==============================] - 0s 23ms/step\n"
     ]
    },
    {
     "name": "stderr",
     "output_type": "stream",
     "text": [
      "\n"
     ]
    },
    {
     "name": "stdout",
     "output_type": "stream",
     "text": [
      "5   1\n"
     ]
    },
    {
     "name": "stderr",
     "output_type": "stream",
     "text": [
      "image 1/1 /home/suryansh/Documents/GitHub/Plant-disease-detection/TEST/northern-corn-leaf-blight-exserohilum-turcicum-lesions-on-a-maize-BX3K2K.jpg: 640x416 2 leafs, 123.2ms\n",
      "Speed: 2.8ms preprocess, 123.2ms inference, 1.5ms postprocess per image at shape (1, 3, 640, 416)\n"
     ]
    },
    {
     "name": "stdout",
     "output_type": "stream",
     "text": [
      "1/1 [==============================] - 0s 19ms/step\n",
      "6   2\n",
      "1/1 [==============================] - 0s 16ms/step\n"
     ]
    },
    {
     "name": "stderr",
     "output_type": "stream",
     "text": [
      "\n",
      "image 1/1 /home/suryansh/Documents/GitHub/Plant-disease-detection/TEST/102_0829.JPG.jpg: 448x640 6 leafs, 7.0ms\n",
      "Speed: 2.0ms preprocess, 7.0ms inference, 1.5ms postprocess per image at shape (1, 3, 448, 640)\n"
     ]
    },
    {
     "name": "stdout",
     "output_type": "stream",
     "text": [
      "6   5\n",
      "1/1 [==============================] - 0s 19ms/step\n",
      "4   0\n",
      "1/1 [==============================] - 0s 17ms/step\n",
      "4   1\n",
      "1/1 [==============================] - 0s 16ms/step\n",
      "4   2\n",
      "1/1 [==============================] - 0s 16ms/step\n",
      "4   3\n",
      "1/1 [==============================] - 0s 23ms/step\n",
      "4   0\n",
      "1/1 [==============================] - 0s 20ms/step\n"
     ]
    },
    {
     "name": "stderr",
     "output_type": "stream",
     "text": [
      "\n"
     ]
    },
    {
     "name": "stdout",
     "output_type": "stream",
     "text": [
      "4   1\n"
     ]
    },
    {
     "name": "stderr",
     "output_type": "stream",
     "text": [
      "image 1/1 /home/suryansh/Documents/GitHub/Plant-disease-detection/TEST/scab-disease-small.jpg: 640x512 3 leafs, 84.4ms\n",
      "Speed: 1.8ms preprocess, 84.4ms inference, 1.4ms postprocess per image at shape (1, 3, 640, 512)\n"
     ]
    },
    {
     "name": "stdout",
     "output_type": "stream",
     "text": [
      "1/1 [==============================] - 0s 15ms/step\n",
      "2   0\n",
      "1/1 [==============================] - 0s 14ms/step\n",
      "2   1\n",
      "1/1 [==============================] - 0s 18ms/step\n"
     ]
    },
    {
     "name": "stderr",
     "output_type": "stream",
     "text": [
      "\n",
      "image 1/1 /home/suryansh/Documents/GitHub/Plant-disease-detection/TEST/green-leaves-cherry-raspberry-isolated-white-backgro-fresh-background-light-veins-close-up-herbarium-75513107.jpg: 640x608 10 leafs, 7.8ms\n",
      "Speed: 2.9ms preprocess, 7.8ms inference, 1.4ms postprocess per image at shape (1, 3, 640, 608)\n"
     ]
    },
    {
     "name": "stdout",
     "output_type": "stream",
     "text": [
      "2   0\n",
      "1/1 [==============================] - 0s 15ms/step\n",
      "5   4\n",
      "1/1 [==============================] - 0s 15ms/step\n",
      "5   4\n",
      "1/1 [==============================] - 0s 15ms/step\n",
      "5   3\n",
      "1/1 [==============================] - 0s 15ms/step\n",
      "5   0\n",
      "1/1 [==============================] - 0s 15ms/step\n",
      "5   2\n",
      "1/1 [==============================] - 0s 16ms/step\n",
      "5   1\n",
      "1/1 [==============================] - 0s 17ms/step\n",
      "5   3\n",
      "1/1 [==============================] - 0s 20ms/step\n",
      "5   4\n",
      "1/1 [==============================] - 0s 17ms/step\n",
      "5   4\n",
      "1/1 [==============================] - 0s 15ms/step\n"
     ]
    },
    {
     "name": "stderr",
     "output_type": "stream",
     "text": [
      "\n",
      "image 1/1 /home/suryansh/Documents/GitHub/Plant-disease-detection/TEST/20130515+008.jpg: 480x640 8 leafs, 6.9ms\n",
      "Speed: 2.0ms preprocess, 6.9ms inference, 1.5ms postprocess per image at shape (1, 3, 480, 640)\n"
     ]
    },
    {
     "name": "stdout",
     "output_type": "stream",
     "text": [
      "5   4\n",
      "1/1 [==============================] - 0s 19ms/step\n",
      "11   3\n",
      "1/1 [==============================] - 0s 16ms/step\n",
      "11   1\n",
      "1/1 [==============================] - 0s 15ms/step\n",
      "11   7\n",
      "1/1 [==============================] - 0s 16ms/step\n",
      "11   0\n",
      "1/1 [==============================] - 0s 16ms/step\n",
      "11   2\n",
      "1/1 [==============================] - 0s 14ms/step\n",
      "11   4\n",
      "1/1 [==============================] - 0s 15ms/step\n",
      "11   0\n",
      "1/1 [==============================] - 0s 15ms/step\n"
     ]
    },
    {
     "name": "stderr",
     "output_type": "stream",
     "text": [
      "\n"
     ]
    },
    {
     "name": "stdout",
     "output_type": "stream",
     "text": [
      "11   3\n"
     ]
    },
    {
     "name": "stderr",
     "output_type": "stream",
     "text": [
      "image 1/1 /home/suryansh/Documents/GitHub/Plant-disease-detection/TEST/0peach.jpg: 416x640 2 leafs, 76.1ms\n",
      "Speed: 1.8ms preprocess, 76.1ms inference, 1.2ms postprocess per image at shape (1, 3, 416, 640)\n"
     ]
    },
    {
     "name": "stdout",
     "output_type": "stream",
     "text": [
      "1/1 [==============================] - 0s 15ms/step\n",
      "8   0\n",
      "1/1 [==============================] - 0s 15ms/step\n"
     ]
    },
    {
     "name": "stderr",
     "output_type": "stream",
     "text": [
      "\n",
      "image 1/1 /home/suryansh/Documents/GitHub/Plant-disease-detection/TEST/inaequalis1b.jpg: 640x576 5 leafs, 73.5ms\n",
      "Speed: 1.9ms preprocess, 73.5ms inference, 1.3ms postprocess per image at shape (1, 3, 640, 576)\n"
     ]
    },
    {
     "name": "stdout",
     "output_type": "stream",
     "text": [
      "8   6\n",
      "1/1 [==============================] - 0s 15ms/step\n",
      "1   0\n",
      "1/1 [==============================] - 0s 14ms/step\n",
      "1   0\n",
      "1/1 [==============================] - 0s 15ms/step\n",
      "1   0\n",
      "1/1 [==============================] - 0s 14ms/step\n",
      "1   0\n",
      "1/1 [==============================] - 0s 15ms/step\n"
     ]
    },
    {
     "name": "stderr",
     "output_type": "stream",
     "text": [
      "\n"
     ]
    },
    {
     "name": "stdout",
     "output_type": "stream",
     "text": [
      "1   0\n"
     ]
    },
    {
     "name": "stderr",
     "output_type": "stream",
     "text": [
      "image 1/1 /home/suryansh/Documents/GitHub/Plant-disease-detection/TEST/corn-bacterial-leaf-streak-zoomed.jpg: 640x384 1 leaf, 76.1ms\n",
      "Speed: 1.7ms preprocess, 76.1ms inference, 1.4ms postprocess per image at shape (1, 3, 640, 384)\n"
     ]
    },
    {
     "name": "stdout",
     "output_type": "stream",
     "text": [
      "1/1 [==============================] - 0s 15ms/step\n"
     ]
    },
    {
     "name": "stderr",
     "output_type": "stream",
     "text": [
      "\n",
      "image 1/1 /home/suryansh/Documents/GitHub/Plant-disease-detection/TEST/disease.jpg: 512x640 4 leafs, 7.2ms\n",
      "Speed: 1.6ms preprocess, 7.2ms inference, 1.4ms postprocess per image at shape (1, 3, 512, 640)\n"
     ]
    },
    {
     "name": "stdout",
     "output_type": "stream",
     "text": [
      "1   0\n",
      "1/1 [==============================] - 0s 14ms/step\n",
      "4   1\n",
      "1/1 [==============================] - 0s 14ms/step\n",
      "4   2\n",
      "1/1 [==============================] - 0s 14ms/step\n",
      "4   2\n",
      "1/1 [==============================] - 0s 14ms/step\n"
     ]
    },
    {
     "name": "stderr",
     "output_type": "stream",
     "text": [
      "\n"
     ]
    },
    {
     "name": "stdout",
     "output_type": "stream",
     "text": [
      "4   0\n"
     ]
    },
    {
     "name": "stderr",
     "output_type": "stream",
     "text": [
      "image 1/1 /home/suryansh/Documents/GitHub/Plant-disease-detection/TEST/apple-tree-leaves.jpg: 512x640 12 leafs, 7.6ms\n",
      "Speed: 2.3ms preprocess, 7.6ms inference, 1.5ms postprocess per image at shape (1, 3, 512, 640)\n"
     ]
    },
    {
     "name": "stdout",
     "output_type": "stream",
     "text": [
      "1/1 [==============================] - 0s 14ms/step\n",
      "12   0\n",
      "1/1 [==============================] - 0s 17ms/step\n",
      "12   3\n",
      "1/1 [==============================] - 0s 19ms/step\n",
      "12   5\n",
      "1/1 [==============================] - 0s 20ms/step\n",
      "12   2\n",
      "1/1 [==============================] - 0s 19ms/step\n",
      "12   1\n",
      "1/1 [==============================] - 0s 18ms/step\n",
      "12   4\n",
      "1/1 [==============================] - 0s 16ms/step\n",
      "12   10\n",
      "1/1 [==============================] - 0s 18ms/step\n",
      "12   11\n",
      "1/1 [==============================] - 0s 19ms/step\n",
      "12   6\n",
      "1/1 [==============================] - 0s 18ms/step\n",
      "12   6\n",
      "1/1 [==============================] - 0s 17ms/step\n",
      "12   5\n",
      "1/1 [==============================] - 0s 18ms/step\n"
     ]
    },
    {
     "name": "stderr",
     "output_type": "stream",
     "text": [
      "\n",
      "image 1/1 /home/suryansh/Documents/GitHub/Plant-disease-detection/TEST/Diseased-Tomato-Plant.jpg: 480x640 7 leafs, 7.2ms\n",
      "Speed: 2.2ms preprocess, 7.2ms inference, 1.5ms postprocess per image at shape (1, 3, 480, 640)\n"
     ]
    },
    {
     "name": "stdout",
     "output_type": "stream",
     "text": [
      "12   4\n",
      "1/1 [==============================] - 0s 20ms/step\n",
      "4   2\n",
      "1/1 [==============================] - 0s 18ms/step\n",
      "4   3\n",
      "1/1 [==============================] - 0s 18ms/step\n",
      "4   1\n",
      "1/1 [==============================] - 0s 19ms/step\n",
      "4   2\n",
      "1/1 [==============================] - 0s 17ms/step\n",
      "4   0\n",
      "1/1 [==============================] - 0s 15ms/step\n",
      "4   3\n",
      "1/1 [==============================] - 0s 15ms/step\n",
      "4   3\n"
     ]
    },
    {
     "name": "stderr",
     "output_type": "stream",
     "text": [
      "\n",
      "image 1/1 /home/suryansh/Documents/GitHub/Plant-disease-detection/TEST/early-tomato-blight.jpg: 640x640 1 leaf, 8.1ms\n",
      "Speed: 1.9ms preprocess, 8.1ms inference, 1.6ms postprocess per image at shape (1, 3, 640, 640)\n"
     ]
    },
    {
     "name": "stdout",
     "output_type": "stream",
     "text": [
      "1/1 [==============================] - 0s 20ms/step\n"
     ]
    },
    {
     "name": "stderr",
     "output_type": "stream",
     "text": [
      "\n"
     ]
    },
    {
     "name": "stdout",
     "output_type": "stream",
     "text": [
      "1   0\n"
     ]
    },
    {
     "name": "stderr",
     "output_type": "stream",
     "text": [
      "image 1/1 /home/suryansh/Documents/GitHub/Plant-disease-detection/TEST/28430_rel.jpg: 640x352 1 leaf, 95.8ms\n",
      "Speed: 1.9ms preprocess, 95.8ms inference, 1.5ms postprocess per image at shape (1, 3, 640, 352)\n"
     ]
    },
    {
     "name": "stdout",
     "output_type": "stream",
     "text": [
      "1/1 [==============================] - 0s 15ms/step\n"
     ]
    },
    {
     "name": "stderr",
     "output_type": "stream",
     "text": [
      "\n",
      "image 1/1 /home/suryansh/Documents/GitHub/Plant-disease-detection/TEST/top-leaf-mold-Fulva-fulvea-WN.jpg: 448x640 1 leaf, 6.7ms\n",
      "Speed: 1.6ms preprocess, 6.7ms inference, 1.2ms postprocess per image at shape (1, 3, 448, 640)\n"
     ]
    },
    {
     "name": "stdout",
     "output_type": "stream",
     "text": [
      "1   0\n",
      "1/1 [==============================] - 0s 19ms/step\n"
     ]
    },
    {
     "name": "stderr",
     "output_type": "stream",
     "text": [
      "\n",
      "image 1/1 /home/suryansh/Documents/GitHub/Plant-disease-detection/TEST/gn201410308259997ar-jpg.jpg: 512x640 1 leaf, 8.1ms\n",
      "Speed: 2.2ms preprocess, 8.1ms inference, 1.6ms postprocess per image at shape (1, 3, 512, 640)\n"
     ]
    },
    {
     "name": "stdout",
     "output_type": "stream",
     "text": [
      "1   0\n",
      "1/1 [==============================] - 0s 17ms/step\n"
     ]
    },
    {
     "name": "stderr",
     "output_type": "stream",
     "text": [
      "\n"
     ]
    },
    {
     "name": "stdout",
     "output_type": "stream",
     "text": [
      "4   0\n"
     ]
    },
    {
     "name": "stderr",
     "output_type": "stream",
     "text": [
      "image 1/1 /home/suryansh/Documents/GitHub/Plant-disease-detection/TEST/41.jpg: 448x640 3 leafs, 6.3ms\n",
      "Speed: 2.0ms preprocess, 6.3ms inference, 1.4ms postprocess per image at shape (1, 3, 448, 640)\n"
     ]
    },
    {
     "name": "stdout",
     "output_type": "stream",
     "text": [
      "1/1 [==============================] - 0s 15ms/step\n",
      "3   0\n",
      "1/1 [==============================] - 0s 17ms/step\n",
      "3   2\n",
      "1/1 [==============================] - 0s 16ms/step\n"
     ]
    },
    {
     "name": "stderr",
     "output_type": "stream",
     "text": [
      "\n",
      "image 1/1 /home/suryansh/Documents/GitHub/Plant-disease-detection/TEST/white-pepper-plant-white-pepper-plant-piper-black-pepper-white-bell-pepper-plants-for-sale-pepper-plant-has-white-leaves.jpg: 480x640 8 leafs, 7.4ms\n",
      "Speed: 1.8ms preprocess, 7.4ms inference, 1.4ms postprocess per image at shape (1, 3, 480, 640)\n"
     ]
    },
    {
     "name": "stdout",
     "output_type": "stream",
     "text": [
      "3   1\n",
      "1/1 [==============================] - 0s 15ms/step\n",
      "5   1\n",
      "1/1 [==============================] - 0s 18ms/step\n",
      "5   2\n",
      "1/1 [==============================] - 0s 18ms/step\n",
      "5   3\n",
      "1/1 [==============================] - 0s 19ms/step\n",
      "5   3\n",
      "1/1 [==============================] - 0s 18ms/step\n",
      "5   0\n",
      "1/1 [==============================] - 0s 20ms/step\n",
      "5   4\n",
      "1/1 [==============================] - 0s 18ms/step\n",
      "5   3\n",
      "1/1 [==============================] - 0s 15ms/step\n"
     ]
    },
    {
     "name": "stderr",
     "output_type": "stream",
     "text": [
      "\n",
      "image 1/1 /home/suryansh/Documents/GitHub/Plant-disease-detection/TEST/6242739939180544.jpeg.jpg: 640x480 1 leaf, 7.7ms\n",
      "Speed: 1.8ms preprocess, 7.7ms inference, 1.5ms postprocess per image at shape (1, 3, 640, 480)\n"
     ]
    },
    {
     "name": "stdout",
     "output_type": "stream",
     "text": [
      "5   4\n",
      "1/1 [==============================] - 0s 17ms/step\n"
     ]
    },
    {
     "name": "stderr",
     "output_type": "stream",
     "text": [
      "\n",
      "image 1/1 /home/suryansh/Documents/GitHub/Plant-disease-detection/TEST/powdery-mildew-1.jpg: 448x640 2 leafs, 6.6ms\n",
      "Speed: 1.6ms preprocess, 6.6ms inference, 1.6ms postprocess per image at shape (1, 3, 448, 640)\n"
     ]
    },
    {
     "name": "stdout",
     "output_type": "stream",
     "text": [
      "1   0\n",
      "1/1 [==============================] - 0s 19ms/step\n",
      "6   5\n",
      "1/1 [==============================] - 0s 20ms/step\n",
      "6   3\n"
     ]
    }
   ],
   "source": [
    "df = pd.read_csv('set.csv')\n",
    "\n",
    "# Define a list of dictionaries\n",
    "data = []\n",
    "# Create empty lists to store results\n",
    "resized_cropped_images = []\n",
    "predicted_classes = []\n",
    "\n",
    "# Define the target size for ResNet50\n",
    "target_size = (256, 256)\n",
    "preds=[]\n",
    "# Process YOLO results\n",
    "for filename in os.listdir(directory):\n",
    "    filtered_df = df[df['filename'] == filename]\n",
    "    results = yolo_model.predict(os.path.join(directory,filename))\n",
    "    for x in results:\n",
    "        for r in x:\n",
    "            # Get the image and bounding box\n",
    "            im_array = r.plot()  # plot a BGR numpy array of predictions\n",
    "            im = PILImage.fromarray(im_array[..., ::-1])  # Convert BGR to RGB PIL image\n",
    "            bbox = r.boxes.data[0, :4].cpu().numpy()  # Get the bounding box\n",
    "\n",
    "            # Crop the detected object from the image\n",
    "            cropped_im = im.crop((bbox[0], bbox[1], bbox[2], bbox[3]))\n",
    "\n",
    "            # Resize the cropped image to the target size\n",
    "            resized_cropped_im = cropped_im.resize(target_size)\n",
    "            # plt.imshow(resized_cropped_im)\n",
    "\n",
    "            # Save the resized and cropped image to a BytesIO object\n",
    "            img_io = io.BytesIO()\n",
    "            resized_cropped_im.save(img_io, 'PNG')\n",
    "\n",
    "            # Append the resized and cropped image to the list\n",
    "            resized_cropped_images.append(resized_cropped_im)\n",
    "\n",
    "            # Predict the class of the cropped object using the loaded ResNet50 model\n",
    "            img_array = np.array(resized_cropped_im)\n",
    "            img_array = tf.image.resize(img_array, (256, 256))\n",
    "            img_array = np.expand_dims(img_array, axis=0)\n",
    "            predictions = model2.predict(img_array)\n",
    "            predicted_class_index = np.argmax(predictions, axis=1)\n",
    "            predicted_class_label = list(class_mapping.keys())[predicted_class_index[0]]\n",
    "            predicted_classes.append(predicted_class_label)\n",
    "            # Convert bounding box to tensor and move to GPU\n",
    "            bbox_tensor = torch.tensor([[bbox[0], bbox[1], bbox[2], bbox[3]]]).to(device)\n",
    "            \n",
    "            # Convert labels to tensor and move to GPU\n",
    "            label_tensor = torch.tensor(predicted_class_index).to(device)\n",
    "\n",
    "            # Convert scores to tensor and move to GPU\n",
    "            score_tensor = torch.tensor([predictions.max()]).to(device)\n",
    "            minind=0\n",
    "            q=0\n",
    "            err=1e9\n",
    "            for(index, row) in filtered_df.iterrows():\n",
    "                # Access fields using the column names\n",
    "                temerr=(bbox[0]-row['xmin'])**2+(bbox[1]-row['ymin'])**2+(bbox[2]-row['xmax'])**2+(bbox[3]-row['ymax'])**2\n",
    "                if(temerr<err):\n",
    "                    err=temerr\n",
    "                    minind=q\n",
    "                q+=1\n",
    "            print(len(filtered_df), \" \", minind)\n",
    "            if(len(filtered_df)>0):\n",
    "                data.append({'boxes': torch.tensor([[(filtered_df.iloc[minind]['xmin'].copy()), (filtered_df.iloc[minind]['ymin'].copy()), (filtered_df.iloc[minind]['xmax'].copy()), (filtered_df.iloc[minind]['ymax'].copy())]]).to(device), 'labels': torch.tensor([(class_mapping[filtered_df.iloc[minind]['class']])]).to(device)})\n",
    "                # filtered_df.drop(filtered_df.index[minind], inplace=True)\n",
    "                preds.append(dict(boxes=bbox_tensor, labels=label_tensor, scores=score_tensor))\n",
    "    filtered_df=[]\n",
    "    \n",
    "    "
   ]
  },
  {
   "cell_type": "code",
   "execution_count": 6,
   "metadata": {},
   "outputs": [],
   "source": [
    "# for img_data, predicted_class in zip(resized_cropped_images, predicted_classes):\n",
    "#     display(img_data, predicted_class, class_mapping[predicted_class])\n"
   ]
  },
  {
   "cell_type": "code",
   "execution_count": 7,
   "metadata": {},
   "outputs": [
    {
     "name": "stdout",
     "output_type": "stream",
     "text": [
      "{'boxes': tensor([[100.8345,  35.8086, 173.5686,  82.3703]], device='cuda:0'), 'labels': tensor([17], device='cuda:0'), 'scores': tensor([0.7308], device='cuda:0')}\n",
      "{'boxes': tensor([[ 94,  33, 174,  82]], device='cuda:0'), 'labels': tensor([23], device='cuda:0')}\n",
      "{'boxes': tensor([[2.2778e+02, 2.2066e-01, 3.4100e+02, 6.8144e+01]], device='cuda:0'), 'labels': tensor([6], device='cuda:0'), 'scores': tensor([0.9428], device='cuda:0')}\n",
      "{'boxes': tensor([[232,   2, 334,  63]], device='cuda:0'), 'labels': tensor([23], device='cuda:0')}\n",
      "{'boxes': tensor([[197.5414,  49.8298, 252.8160, 131.8664]], device='cuda:0'), 'labels': tensor([17], device='cuda:0'), 'scores': tensor([0.9991], device='cuda:0')}\n",
      "{'boxes': tensor([[193,  57, 260, 143]], device='cuda:0'), 'labels': tensor([23], device='cuda:0')}\n",
      "{'boxes': tensor([[136.1872,  62.6859, 213.2086, 217.6389]], device='cuda:0'), 'labels': tensor([10], device='cuda:0'), 'scores': tensor([0.4730], device='cuda:0')}\n",
      "{'boxes': tensor([[139,  78, 205, 209]], device='cuda:0'), 'labels': tensor([23], device='cuda:0')}\n",
      "{'boxes': tensor([[1.8542e-01, 5.0398e+01, 1.2996e+02, 2.3655e+02]], device='cuda:0'), 'labels': tensor([4], device='cuda:0'), 'scores': tensor([0.9791], device='cuda:0')}\n",
      "{'boxes': tensor([[  3,  59, 128, 251]], device='cuda:0'), 'labels': tensor([4], device='cuda:0')}\n",
      "{'boxes': tensor([[535.4600, 270.2797, 700.0000, 525.0000]], device='cuda:0'), 'labels': tensor([4], device='cuda:0'), 'scores': tensor([0.9978], device='cuda:0')}\n",
      "{'boxes': tensor([[540, 275, 695, 525]], device='cuda:0'), 'labels': tensor([4], device='cuda:0')}\n",
      "{'boxes': tensor([[249.9047, 166.4619, 349.2637, 317.5874]], device='cuda:0'), 'labels': tensor([4], device='cuda:0'), 'scores': tensor([0.6590], device='cuda:0')}\n",
      "{'boxes': tensor([[249, 160, 347, 310]], device='cuda:0'), 'labels': tensor([4], device='cuda:0')}\n",
      "{'boxes': tensor([[192.5543,  56.1931, 333.8826, 131.2787]], device='cuda:0'), 'labels': tensor([4], device='cuda:0'), 'scores': tensor([0.7778], device='cuda:0')}\n",
      "{'boxes': tensor([[200,  57, 338, 141]], device='cuda:0'), 'labels': tensor([4], device='cuda:0')}\n",
      "{'boxes': tensor([[403.5429, 272.7782, 607.1187, 500.5676]], device='cuda:0'), 'labels': tensor([28], device='cuda:0'), 'scores': tensor([0.6042], device='cuda:0')}\n",
      "{'boxes': tensor([[403, 227, 612, 418]], device='cuda:0'), 'labels': tensor([4], device='cuda:0')}\n",
      "{'boxes': tensor([[   0.0000,  703.5521,  221.3412, 1056.7988]], device='cuda:0'), 'labels': tensor([10], device='cuda:0'), 'scores': tensor([0.9761], device='cuda:0')}\n",
      "{'boxes': tensor([[   1,  684,  237, 1052]], device='cuda:0'), 'labels': tensor([24], device='cuda:0')}\n",
      "{'boxes': tensor([[384.6799, 263.9990, 561.0662, 519.9665]], device='cuda:0'), 'labels': tensor([17], device='cuda:0'), 'scores': tensor([0.7640], device='cuda:0')}\n",
      "{'boxes': tensor([[384, 281, 566, 550]], device='cuda:0'), 'labels': tensor([24], device='cuda:0')}\n",
      "{'boxes': tensor([[462.1104, 172.6234, 689.8942, 364.8113]], device='cuda:0'), 'labels': tensor([17], device='cuda:0'), 'scores': tensor([0.9995], device='cuda:0')}\n",
      "{'boxes': tensor([[482, 163, 689, 376]], device='cuda:0'), 'labels': tensor([24], device='cuda:0')}\n",
      "{'boxes': tensor([[ 777.1058, 1019.9933, 1140.7257, 1317.8845]], device='cuda:0'), 'labels': tensor([10], device='cuda:0'), 'scores': tensor([0.3609], device='cuda:0')}\n",
      "{'boxes': tensor([[ 800, 1069, 1116, 1325]], device='cuda:0'), 'labels': tensor([24], device='cuda:0')}\n",
      "{'boxes': tensor([[ 213.1950,  712.0381,  551.3528, 1007.0668]], device='cuda:0'), 'labels': tensor([10], device='cuda:0'), 'scores': tensor([0.9691], device='cuda:0')}\n",
      "{'boxes': tensor([[   1,  684,  237, 1052]], device='cuda:0'), 'labels': tensor([24], device='cuda:0')}\n",
      "{'boxes': tensor([[482.8722, 219.6083, 688.8321, 359.4763]], device='cuda:0'), 'labels': tensor([17], device='cuda:0'), 'scores': tensor([0.9856], device='cuda:0')}\n",
      "{'boxes': tensor([[482, 163, 689, 376]], device='cuda:0'), 'labels': tensor([24], device='cuda:0')}\n",
      "{'boxes': tensor([[ 279.8686,    7.7905, 1061.7544, 1263.2764]], device='cuda:0'), 'labels': tensor([21], device='cuda:0'), 'scores': tensor([0.5710], device='cuda:0')}\n",
      "{'boxes': tensor([[ 306,    1, 1082, 1155]], device='cuda:0'), 'labels': tensor([12], device='cuda:0')}\n",
      "{'boxes': tensor([[  0.0000,   8.9581, 443.2394, 673.0759]], device='cuda:0'), 'labels': tensor([28], device='cuda:0'), 'scores': tensor([0.9942], device='cuda:0')}\n",
      "{'boxes': tensor([[  6,   1, 439, 670]], device='cuda:0'), 'labels': tensor([12], device='cuda:0')}\n",
      "{'boxes': tensor([[  0.0000, 633.9243, 295.3552, 997.8630]], device='cuda:0'), 'labels': tensor([2], device='cuda:0'), 'scores': tensor([0.7356], device='cuda:0')}\n",
      "{'boxes': tensor([[ 237,  942,  525, 1296]], device='cuda:0'), 'labels': tensor([12], device='cuda:0')}\n",
      "{'boxes': tensor([[392.8374,  72.0520, 819.7814, 397.2940]], device='cuda:0'), 'labels': tensor([27], device='cuda:0'), 'scores': tensor([0.6639], device='cuda:0')}\n",
      "{'boxes': tensor([[397,  75, 792, 372]], device='cuda:0'), 'labels': tensor([27], device='cuda:0')}\n",
      "{'boxes': tensor([[216.6156, 319.6010, 552.9534, 631.5913]], device='cuda:0'), 'labels': tensor([27], device='cuda:0'), 'scores': tensor([0.9748], device='cuda:0')}\n",
      "{'boxes': tensor([[195, 314, 540, 646]], device='cuda:0'), 'labels': tensor([27], device='cuda:0')}\n",
      "{'boxes': tensor([[  0.0000, 344.3863, 230.4781, 632.4867]], device='cuda:0'), 'labels': tensor([10], device='cuda:0'), 'scores': tensor([0.8658], device='cuda:0')}\n",
      "{'boxes': tensor([[195, 314, 540, 646]], device='cuda:0'), 'labels': tensor([27], device='cuda:0')}\n",
      "{'boxes': tensor([[661.9496, 325.1718, 918.3126, 614.0136]], device='cuda:0'), 'labels': tensor([14], device='cuda:0'), 'scores': tensor([0.7433], device='cuda:0')}\n",
      "{'boxes': tensor([[660, 330, 903, 579]], device='cuda:0'), 'labels': tensor([27], device='cuda:0')}\n",
      "{'boxes': tensor([[148.6809, 191.5377, 302.7475, 376.3343]], device='cuda:0'), 'labels': tensor([10], device='cuda:0'), 'scores': tensor([0.9935], device='cuda:0')}\n",
      "{'boxes': tensor([[292, 132, 394, 407]], device='cuda:0'), 'labels': tensor([27], device='cuda:0')}\n",
      "{'boxes': tensor([[ 366.4236,  645.5815, 1327.9911, 1406.9634]], device='cuda:0'), 'labels': tensor([14], device='cuda:0'), 'scores': tensor([1.], device='cuda:0')}\n",
      "{'boxes': tensor([[ 356,  633, 1309, 1412]], device='cuda:0'), 'labels': tensor([14], device='cuda:0')}\n",
      "{'boxes': tensor([[  10.6648,  377.7119,  672.2425, 1084.7555]], device='cuda:0'), 'labels': tensor([14], device='cuda:0'), 'scores': tensor([1.0000], device='cuda:0')}\n",
      "{'boxes': tensor([[ 356,  633, 1309, 1412]], device='cuda:0'), 'labels': tensor([14], device='cuda:0')}\n",
      "{'boxes': tensor([[1816.0699,  625.7424, 2126.0000, 1412.0000]], device='cuda:0'), 'labels': tensor([14], device='cuda:0'), 'scores': tensor([0.9930], device='cuda:0')}\n",
      "{'boxes': tensor([[ 356,  633, 1309, 1412]], device='cuda:0'), 'labels': tensor([14], device='cuda:0')}\n",
      "{'boxes': tensor([[1878.5370,   17.4252, 2125.9680,  807.4282]], device='cuda:0'), 'labels': tensor([28], device='cuda:0'), 'scores': tensor([0.9999], device='cuda:0')}\n",
      "{'boxes': tensor([[ 356,  633, 1309, 1412]], device='cuda:0'), 'labels': tensor([14], device='cuda:0')}\n",
      "{'boxes': tensor([[ 182.4715,  639.9454,  944.4780, 1310.4905]], device='cuda:0'), 'labels': tensor([16], device='cuda:0'), 'scores': tensor([0.9993], device='cuda:0')}\n",
      "{'boxes': tensor([[ 161,  621,  966, 1328]], device='cuda:0'), 'labels': tensor([16], device='cuda:0')}\n",
      "{'boxes': tensor([[ 337.6957,  135.7682, 1147.7754,  820.5486]], device='cuda:0'), 'labels': tensor([16], device='cuda:0'), 'scores': tensor([0.7894], device='cuda:0')}\n",
      "{'boxes': tensor([[ 327,  160, 1152,  805]], device='cuda:0'), 'labels': tensor([16], device='cuda:0')}\n",
      "{'boxes': tensor([[ 794.5813, 1166.6331, 1198.7434, 1599.9316]], device='cuda:0'), 'labels': tensor([14], device='cuda:0'), 'scores': tensor([0.9696], device='cuda:0')}\n",
      "{'boxes': tensor([[ 161,  621,  966, 1328]], device='cuda:0'), 'labels': tensor([16], device='cuda:0')}\n",
      "{'boxes': tensor([[ 80.9347, 484.4086, 395.7749, 887.3196]], device='cuda:0'), 'labels': tensor([17], device='cuda:0'), 'scores': tensor([0.8700], device='cuda:0')}\n",
      "{'boxes': tensor([[ 161,  621,  966, 1328]], device='cuda:0'), 'labels': tensor([16], device='cuda:0')}\n",
      "{'boxes': tensor([[ 44.8936,  68.6821, 317.3428, 457.0103]], device='cuda:0'), 'labels': tensor([18], device='cuda:0'), 'scores': tensor([1.0000], device='cuda:0')}\n",
      "{'boxes': tensor([[ 51,  47, 328, 453]], device='cuda:0'), 'labels': tensor([18], device='cuda:0')}\n",
      "{'boxes': tensor([[  8.6315,  83.5319, 315.9235, 225.4958]], device='cuda:0'), 'labels': tensor([21], device='cuda:0'), 'scores': tensor([0.9859], device='cuda:0')}\n",
      "{'boxes': tensor([[ 22,  90, 325, 223]], device='cuda:0'), 'labels': tensor([12], device='cuda:0')}\n",
      "{'boxes': tensor([[289.3353, 213.4719, 378.3618, 301.7246]], device='cuda:0'), 'labels': tensor([28], device='cuda:0'), 'scores': tensor([0.7369], device='cuda:0')}\n",
      "{'boxes': tensor([[287, 212, 379, 296]], device='cuda:0'), 'labels': tensor([12], device='cuda:0')}\n",
      "{'boxes': tensor([[261.1284,  80.3791, 379.0000, 146.9504]], device='cuda:0'), 'labels': tensor([5], device='cuda:0'), 'scores': tensor([0.8241], device='cuda:0')}\n",
      "{'boxes': tensor([[261,  82, 373, 152]], device='cuda:0'), 'labels': tensor([12], device='cuda:0')}\n",
      "{'boxes': tensor([[219.9602, 129.8956, 377.3417, 263.0596]], device='cuda:0'), 'labels': tensor([19], device='cuda:0'), 'scores': tensor([0.6107], device='cuda:0')}\n",
      "{'boxes': tensor([[287, 212, 379, 296]], device='cuda:0'), 'labels': tensor([12], device='cuda:0')}\n",
      "{'boxes': tensor([[  6.8642, 283.4466, 634.9932, 637.7394]], device='cuda:0'), 'labels': tensor([5], device='cuda:0'), 'scores': tensor([0.4984], device='cuda:0')}\n",
      "{'boxes': tensor([[ 17, 448, 603, 642]], device='cuda:0'), 'labels': tensor([16], device='cuda:0')}\n",
      "{'boxes': tensor([[630.3224, 235.5337, 960.0000, 521.3588]], device='cuda:0'), 'labels': tensor([3], device='cuda:0'), 'scores': tensor([0.9523], device='cuda:0')}\n",
      "{'boxes': tensor([[639, 238, 960, 512]], device='cuda:0'), 'labels': tensor([16], device='cuda:0')}\n",
      "{'boxes': tensor([[603.2473, 513.1730, 910.1716, 642.0000]], device='cuda:0'), 'labels': tensor([16], device='cuda:0'), 'scores': tensor([0.9958], device='cuda:0')}\n",
      "{'boxes': tensor([[590, 517, 880, 642]], device='cuda:0'), 'labels': tensor([16], device='cuda:0')}\n",
      "{'boxes': tensor([[ 21.6561,  56.9454, 122.6699, 148.0763]], device='cuda:0'), 'labels': tensor([17], device='cuda:0'), 'scores': tensor([0.9924], device='cuda:0')}\n",
      "{'boxes': tensor([[ 22,  56, 121, 152]], device='cuda:0'), 'labels': tensor([28], device='cuda:0')}\n",
      "{'boxes': tensor([[104.6360,   0.7149, 201.9579,  91.3034]], device='cuda:0'), 'labels': tensor([6], device='cuda:0'), 'scores': tensor([0.8154], device='cuda:0')}\n",
      "{'boxes': tensor([[111,   2, 202,  90]], device='cuda:0'), 'labels': tensor([28], device='cuda:0')}\n",
      "{'boxes': tensor([[ 36.3351,   0.0000, 129.0043,  33.6221]], device='cuda:0'), 'labels': tensor([5], device='cuda:0'), 'scores': tensor([0.9994], device='cuda:0')}\n",
      "{'boxes': tensor([[ 31,   1, 130,  34]], device='cuda:0'), 'labels': tensor([28], device='cuda:0')}\n",
      "{'boxes': tensor([[496.4430,   0.0000, 618.9050, 131.4145]], device='cuda:0'), 'labels': tensor([17], device='cuda:0'), 'scores': tensor([0.5132], device='cuda:0')}\n",
      "{'boxes': tensor([[478,   3, 619, 139]], device='cuda:0'), 'labels': tensor([25], device='cuda:0')}\n",
      "{'boxes': tensor([[117.7596,  38.7346, 223.9391, 163.1242]], device='cuda:0'), 'labels': tensor([4], device='cuda:0'), 'scores': tensor([0.4287], device='cuda:0')}\n",
      "{'boxes': tensor([[120,  37, 237, 162]], device='cuda:0'), 'labels': tensor([25], device='cuda:0')}\n",
      "{'boxes': tensor([[418.2839, 452.5618, 536.8622, 556.9237]], device='cuda:0'), 'labels': tensor([10], device='cuda:0'), 'scores': tensor([0.8517], device='cuda:0')}\n",
      "{'boxes': tensor([[504, 168, 590, 293]], device='cuda:0'), 'labels': tensor([25], device='cuda:0')}\n",
      "{'boxes': tensor([[501.9536, 167.7565, 588.7172, 290.8969]], device='cuda:0'), 'labels': tensor([17], device='cuda:0'), 'scores': tensor([0.9780], device='cuda:0')}\n",
      "{'boxes': tensor([[504, 168, 590, 293]], device='cuda:0'), 'labels': tensor([25], device='cuda:0')}\n",
      "{'boxes': tensor([[122.7996, 311.6226, 195.3783, 377.6783]], device='cuda:0'), 'labels': tensor([3], device='cuda:0'), 'scores': tensor([0.9278], device='cuda:0')}\n",
      "{'boxes': tensor([[165, 135, 310, 212]], device='cuda:0'), 'labels': tensor([25], device='cuda:0')}\n",
      "{'boxes': tensor([[ 40.3564, 107.5128, 164.1363, 198.4027]], device='cuda:0'), 'labels': tensor([4], device='cuda:0'), 'scores': tensor([0.9903], device='cuda:0')}\n",
      "{'boxes': tensor([[ 38, 102, 163, 190]], device='cuda:0'), 'labels': tensor([25], device='cuda:0')}\n",
      "{'boxes': tensor([[590.7015,  43.9918, 721.3852, 166.1250]], device='cuda:0'), 'labels': tensor([14], device='cuda:0'), 'scores': tensor([0.5342], device='cuda:0')}\n",
      "{'boxes': tensor([[478,   3, 619, 139]], device='cuda:0'), 'labels': tensor([25], device='cuda:0')}\n",
      "{'boxes': tensor([[482.7917, 386.2503, 552.7894, 465.6833]], device='cuda:0'), 'labels': tensor([17], device='cuda:0'), 'scores': tensor([0.9313], device='cuda:0')}\n",
      "{'boxes': tensor([[504, 168, 590, 293]], device='cuda:0'), 'labels': tensor([25], device='cuda:0')}\n",
      "{'boxes': tensor([[632.9028, 332.3616, 678.6343, 411.5576]], device='cuda:0'), 'labels': tensor([17], device='cuda:0'), 'scores': tensor([0.3682], device='cuda:0')}\n",
      "{'boxes': tensor([[504, 168, 590, 293]], device='cuda:0'), 'labels': tensor([25], device='cuda:0')}\n",
      "{'boxes': tensor([[210.1456, 371.6341, 268.1733, 430.1131]], device='cuda:0'), 'labels': tensor([4], device='cuda:0'), 'scores': tensor([0.4601], device='cuda:0')}\n",
      "{'boxes': tensor([[165, 135, 310, 212]], device='cuda:0'), 'labels': tensor([25], device='cuda:0')}\n",
      "{'boxes': tensor([[561.6707, 349.1965, 628.4976, 450.4483]], device='cuda:0'), 'labels': tensor([17], device='cuda:0'), 'scores': tensor([0.5032], device='cuda:0')}\n",
      "{'boxes': tensor([[504, 168, 590, 293]], device='cuda:0'), 'labels': tensor([25], device='cuda:0')}\n",
      "{'boxes': tensor([[567.0673, 349.9960, 611.6711, 428.6377]], device='cuda:0'), 'labels': tensor([17], device='cuda:0'), 'scores': tensor([0.9554], device='cuda:0')}\n",
      "{'boxes': tensor([[504, 168, 590, 293]], device='cuda:0'), 'labels': tensor([25], device='cuda:0')}\n",
      "{'boxes': tensor([[171.6831, 492.6330, 237.8245, 560.2402]], device='cuda:0'), 'labels': tensor([4], device='cuda:0'), 'scores': tensor([0.7880], device='cuda:0')}\n",
      "{'boxes': tensor([[165, 135, 310, 212]], device='cuda:0'), 'labels': tensor([25], device='cuda:0')}\n",
      "{'boxes': tensor([[172.9589, 138.8237, 300.8002, 215.3289]], device='cuda:0'), 'labels': tensor([10], device='cuda:0'), 'scores': tensor([0.6742], device='cuda:0')}\n",
      "{'boxes': tensor([[165, 135, 310, 212]], device='cuda:0'), 'labels': tensor([25], device='cuda:0')}\n",
      "{'boxes': tensor([[249.7182, 516.8002, 293.8349, 566.2356]], device='cuda:0'), 'labels': tensor([4], device='cuda:0'), 'scores': tensor([0.7175], device='cuda:0')}\n",
      "{'boxes': tensor([[165, 135, 310, 212]], device='cuda:0'), 'labels': tensor([25], device='cuda:0')}\n",
      "{'boxes': tensor([[527.1855, 469.2980, 584.0155, 545.7648]], device='cuda:0'), 'labels': tensor([17], device='cuda:0'), 'scores': tensor([0.9934], device='cuda:0')}\n",
      "{'boxes': tensor([[504, 168, 590, 293]], device='cuda:0'), 'labels': tensor([25], device='cuda:0')}\n",
      "{'boxes': tensor([[ 403.8980,  315.4601, 1021.3209,  910.4819]], device='cuda:0'), 'labels': tensor([27], device='cuda:0'), 'scores': tensor([1.0000], device='cuda:0')}\n",
      "{'boxes': tensor([[ 392,  318, 1023,  917]], device='cuda:0'), 'labels': tensor([17], device='cuda:0')}\n",
      "{'boxes': tensor([[217.0952,  47.9439, 561.4969, 442.5707]], device='cuda:0'), 'labels': tensor([17], device='cuda:0'), 'scores': tensor([0.9999], device='cuda:0')}\n",
      "{'boxes': tensor([[230,  53, 561, 457]], device='cuda:0'), 'labels': tensor([17], device='cuda:0')}\n",
      "{'boxes': tensor([[142.2276, 404.9379, 395.9615, 855.1204]], device='cuda:0'), 'labels': tensor([17], device='cuda:0'), 'scores': tensor([1.0000], device='cuda:0')}\n",
      "{'boxes': tensor([[156, 390, 416, 862]], device='cuda:0'), 'labels': tensor([17], device='cuda:0')}\n",
      "{'boxes': tensor([[  11.5389,   12.6041, 2590.9402, 1694.0906]], device='cuda:0'), 'labels': tensor([9], device='cuda:0'), 'scores': tensor([0.5127], device='cuda:0')}\n",
      "{'boxes': tensor([[   1,    8, 2592, 1687]], device='cuda:0'), 'labels': tensor([9], device='cuda:0')}\n",
      "{'boxes': tensor([[272.7417, 138.4314, 637.6274, 458.2053]], device='cuda:0'), 'labels': tensor([17], device='cuda:0'), 'scores': tensor([0.5302], device='cuda:0')}\n",
      "{'boxes': tensor([[287, 147, 618, 455]], device='cuda:0'), 'labels': tensor([27], device='cuda:0')}\n",
      "{'boxes': tensor([[420.2469, 443.3904, 682.5630, 740.0246]], device='cuda:0'), 'labels': tensor([17], device='cuda:0'), 'scores': tensor([0.9949], device='cuda:0')}\n",
      "{'boxes': tensor([[388, 445, 678, 740]], device='cuda:0'), 'labels': tensor([27], device='cuda:0')}\n",
      "{'boxes': tensor([[722.9612, 384.4564, 996.8735, 685.7589]], device='cuda:0'), 'labels': tensor([17], device='cuda:0'), 'scores': tensor([0.7881], device='cuda:0')}\n",
      "{'boxes': tensor([[718, 155, 879, 411]], device='cuda:0'), 'labels': tensor([27], device='cuda:0')}\n",
      "{'boxes': tensor([[5.9593e+02, 2.2915e-01, 8.2125e+02, 1.8357e+02]], device='cuda:0'), 'labels': tensor([17], device='cuda:0'), 'scores': tensor([0.9999], device='cuda:0')}\n",
      "{'boxes': tensor([[718, 155, 879, 411]], device='cuda:0'), 'labels': tensor([27], device='cuda:0')}\n",
      "{'boxes': tensor([[740.0102,   0.0000, 922.1850, 221.0259]], device='cuda:0'), 'labels': tensor([6], device='cuda:0'), 'scores': tensor([0.4286], device='cuda:0')}\n",
      "{'boxes': tensor([[718, 155, 879, 411]], device='cuda:0'), 'labels': tensor([27], device='cuda:0')}\n",
      "{'boxes': tensor([[  0.0000, 302.9887, 252.3029, 529.0666]], device='cuda:0'), 'labels': tensor([17], device='cuda:0'), 'scores': tensor([0.9995], device='cuda:0')}\n",
      "{'boxes': tensor([[  1, 232, 238, 557]], device='cuda:0'), 'labels': tensor([27], device='cuda:0')}\n",
      "{'boxes': tensor([[577.6395, 141.5236, 890.0141, 400.4596]], device='cuda:0'), 'labels': tensor([0], device='cuda:0'), 'scores': tensor([0.4493], device='cuda:0')}\n",
      "{'boxes': tensor([[718, 155, 879, 411]], device='cuda:0'), 'labels': tensor([27], device='cuda:0')}\n",
      "{'boxes': tensor([[678.0181, 146.7273, 880.6725, 389.9891]], device='cuda:0'), 'labels': tensor([6], device='cuda:0'), 'scores': tensor([0.9252], device='cuda:0')}\n",
      "{'boxes': tensor([[718, 155, 879, 411]], device='cuda:0'), 'labels': tensor([27], device='cuda:0')}\n",
      "{'boxes': tensor([[  5.6597,  57.9903, 227.8671, 161.9815]], device='cuda:0'), 'labels': tensor([13], device='cuda:0'), 'scores': tensor([0.6339], device='cuda:0')}\n",
      "{'boxes': tensor([[  2,  54, 225, 163]], device='cuda:0'), 'labels': tensor([13], device='cuda:0')}\n",
      "{'boxes': tensor([[ 588.6663,  480.2054, 1214.0330, 1183.8031]], device='cuda:0'), 'labels': tensor([14], device='cuda:0'), 'scores': tensor([0.9999], device='cuda:0')}\n",
      "{'boxes': tensor([[ 593,  487, 1166, 1200]], device='cuda:0'), 'labels': tensor([14], device='cuda:0')}\n",
      "{'boxes': tensor([[ 663.1287,    2.2076, 1515.2119,  513.8093]], device='cuda:0'), 'labels': tensor([14], device='cuda:0'), 'scores': tensor([0.9998], device='cuda:0')}\n",
      "{'boxes': tensor([[ 660,    1, 1529,  513]], device='cuda:0'), 'labels': tensor([14], device='cuda:0')}\n",
      "{'boxes': tensor([[150.1859, 273.7436, 744.7472, 920.0235]], device='cuda:0'), 'labels': tensor([14], device='cuda:0'), 'scores': tensor([1.0000], device='cuda:0')}\n",
      "{'boxes': tensor([[159, 272, 669, 918]], device='cuda:0'), 'labels': tensor([14], device='cuda:0')}\n",
      "{'boxes': tensor([[ 779.1495,    5.0544, 2275.0186, 1830.0000]], device='cuda:0'), 'labels': tensor([27], device='cuda:0'), 'scores': tensor([0.5029], device='cuda:0')}\n",
      "{'boxes': tensor([[ 910,   44, 2283, 1830]], device='cuda:0'), 'labels': tensor([2], device='cuda:0')}\n",
      "{'boxes': tensor([[ 165.6874, 1989.3170, 2104.9805, 3264.0000]], device='cuda:0'), 'labels': tensor([21], device='cuda:0'), 'scores': tensor([0.5727], device='cuda:0')}\n",
      "{'boxes': tensor([[   9, 1248, 1794, 2629]], device='cuda:0'), 'labels': tensor([13], device='cuda:0')}\n",
      "{'boxes': tensor([[ 587.7353,  240.3013, 2067.1274, 1239.2502]], device='cuda:0'), 'labels': tensor([16], device='cuda:0'), 'scores': tensor([0.3679], device='cuda:0')}\n",
      "{'boxes': tensor([[1361,  534, 2052, 1281]], device='cuda:0'), 'labels': tensor([13], device='cuda:0')}\n",
      "{'boxes': tensor([[  11.3396, 1270.9423, 1757.1451, 2412.9236]], device='cuda:0'), 'labels': tensor([16], device='cuda:0'), 'scores': tensor([0.4840], device='cuda:0')}\n",
      "{'boxes': tensor([[   9, 1248, 1794, 2629]], device='cuda:0'), 'labels': tensor([13], device='cuda:0')}\n",
      "{'boxes': tensor([[1341.6180,  537.2585, 2077.4746, 1269.5483]], device='cuda:0'), 'labels': tensor([6], device='cuda:0'), 'scores': tensor([0.4853], device='cuda:0')}\n",
      "{'boxes': tensor([[1361,  534, 2052, 1281]], device='cuda:0'), 'labels': tensor([13], device='cuda:0')}\n",
      "{'boxes': tensor([[  1.2876,  97.0167, 565.7627, 396.3129]], device='cuda:0'), 'labels': tensor([18], device='cuda:0'), 'scores': tensor([1.0000], device='cuda:0')}\n",
      "{'boxes': tensor([[ 10, 104, 564, 393]], device='cuda:0'), 'labels': tensor([18], device='cuda:0')}\n",
      "{'boxes': tensor([[272.3757,   5.4105, 985.6989, 629.3369]], device='cuda:0'), 'labels': tensor([7], device='cuda:0'), 'scores': tensor([1.0000], device='cuda:0')}\n",
      "{'boxes': tensor([[252,   4, 998, 630]], device='cuda:0'), 'labels': tensor([7], device='cuda:0')}\n",
      "{'boxes': tensor([[303.2607, 609.8148, 628.8433, 849.5569]], device='cuda:0'), 'labels': tensor([17], device='cuda:0'), 'scores': tensor([0.7070], device='cuda:0')}\n",
      "{'boxes': tensor([[314, 583, 621, 835]], device='cuda:0'), 'labels': tensor([23], device='cuda:0')}\n",
      "{'boxes': tensor([[  0.0000,   0.0000, 151.3125, 639.5214]], device='cuda:0'), 'labels': tensor([28], device='cuda:0'), 'scores': tensor([0.9320], device='cuda:0')}\n",
      "{'boxes': tensor([[336, 390, 388, 523]], device='cuda:0'), 'labels': tensor([23], device='cuda:0')}\n",
      "{'boxes': tensor([[501.0634, 316.7215, 653.6486, 480.0671]], device='cuda:0'), 'labels': tensor([17], device='cuda:0'), 'scores': tensor([0.9356], device='cuda:0')}\n",
      "{'boxes': tensor([[500, 292, 660, 705]], device='cuda:0'), 'labels': tensor([23], device='cuda:0')}\n",
      "{'boxes': tensor([[ 34.3118,  17.3393, 235.2192, 142.8335]], device='cuda:0'), 'labels': tensor([10], device='cuda:0'), 'scores': tensor([0.9481], device='cuda:0')}\n",
      "{'boxes': tensor([[ 36,  17, 230, 142]], device='cuda:0'), 'labels': tensor([10], device='cuda:0')}\n",
      "{'boxes': tensor([[203.3968,  43.8852, 434.4588, 208.7437]], device='cuda:0'), 'labels': tensor([10], device='cuda:0'), 'scores': tensor([0.9901], device='cuda:0')}\n",
      "{'boxes': tensor([[206,  81, 406, 199]], device='cuda:0'), 'labels': tensor([10], device='cuda:0')}\n",
      "{'boxes': tensor([[ 38.2621, 234.7698, 211.7124, 399.7011]], device='cuda:0'), 'labels': tensor([10], device='cuda:0'), 'scores': tensor([0.9925], device='cuda:0')}\n",
      "{'boxes': tensor([[ 40, 243, 154, 400]], device='cuda:0'), 'labels': tensor([10], device='cuda:0')}\n",
      "{'boxes': tensor([[337.9203, 235.1065, 414.1080, 387.3393]], device='cuda:0'), 'labels': tensor([10], device='cuda:0'), 'scores': tensor([0.9954], device='cuda:0')}\n",
      "{'boxes': tensor([[350, 222, 420, 374]], device='cuda:0'), 'labels': tensor([10], device='cuda:0')}\n",
      "{'boxes': tensor([[ 41.5990, 137.9924, 277.0386, 257.8994]], device='cuda:0'), 'labels': tensor([10], device='cuda:0'), 'scores': tensor([0.9996], device='cuda:0')}\n",
      "{'boxes': tensor([[ 59, 180, 224, 251]], device='cuda:0'), 'labels': tensor([10], device='cuda:0')}\n",
      "{'boxes': tensor([[199.0785, 233.1856, 418.8410, 387.1847]], device='cuda:0'), 'labels': tensor([17], device='cuda:0'), 'scores': tensor([0.8001], device='cuda:0')}\n",
      "{'boxes': tensor([[244, 244, 376, 353]], device='cuda:0'), 'labels': tensor([10], device='cuda:0')}\n",
      "{'boxes': tensor([[118.1193, 140.6078, 252.9870, 185.0162]], device='cuda:0'), 'labels': tensor([17], device='cuda:0'), 'scores': tensor([0.9944], device='cuda:0')}\n",
      "{'boxes': tensor([[143, 169, 287, 228]], device='cuda:0'), 'labels': tensor([10], device='cuda:0')}\n",
      "{'boxes': tensor([[ 702.9664,  708.4713, 1255.7032, 1241.6176]], device='cuda:0'), 'labels': tensor([5], device='cuda:0'), 'scores': tensor([0.9997], device='cuda:0')}\n",
      "{'boxes': tensor([[ 705,  706, 1322, 1301]], device='cuda:0'), 'labels': tensor([5], device='cuda:0')}\n",
      "{'boxes': tensor([[459.1420, 215.1107, 957.7916, 658.6343]], device='cuda:0'), 'labels': tensor([5], device='cuda:0'), 'scores': tensor([0.9226], device='cuda:0')}\n",
      "{'boxes': tensor([[454, 197, 958, 688]], device='cuda:0'), 'labels': tensor([5], device='cuda:0')}\n",
      "{'boxes': tensor([[ 628.3008,  396.8826, 1285.1772,  746.4081]], device='cuda:0'), 'labels': tensor([5], device='cuda:0'), 'scores': tensor([0.7414], device='cuda:0')}\n",
      "{'boxes': tensor([[ 653,  405, 1291,  773]], device='cuda:0'), 'labels': tensor([5], device='cuda:0')}\n",
      "{'boxes': tensor([[ 289.7899,  699.7913,  751.7398, 1271.2598]], device='cuda:0'), 'labels': tensor([5], device='cuda:0'), 'scores': tensor([1.0000], device='cuda:0')}\n",
      "{'boxes': tensor([[ 292,  705,  765, 1286]], device='cuda:0'), 'labels': tensor([5], device='cuda:0')}\n",
      "{'boxes': tensor([[ 92.5715, 274.7076, 381.1733, 624.1015]], device='cuda:0'), 'labels': tensor([6], device='cuda:0'), 'scores': tensor([0.4934], device='cuda:0')}\n",
      "{'boxes': tensor([[ 150,  624,  553, 1071]], device='cuda:0'), 'labels': tensor([5], device='cuda:0')}\n",
      "{'boxes': tensor([[ 190.6172,  625.6686,  537.3953, 1047.8550]], device='cuda:0'), 'labels': tensor([5], device='cuda:0'), 'scores': tensor([1.0000], device='cuda:0')}\n",
      "{'boxes': tensor([[ 150,  624,  553, 1071]], device='cuda:0'), 'labels': tensor([5], device='cuda:0')}\n",
      "{'boxes': tensor([[  2.1389, 501.6963, 406.6045, 803.4514]], device='cuda:0'), 'labels': tensor([10], device='cuda:0'), 'scores': tensor([0.7987], device='cuda:0')}\n",
      "{'boxes': tensor([[ 150,  624,  553, 1071]], device='cuda:0'), 'labels': tensor([5], device='cuda:0')}\n",
      "{'boxes': tensor([[243.3327,   2.0814, 445.1247, 189.2821]], device='cuda:0'), 'labels': tensor([16], device='cuda:0'), 'scores': tensor([0.9616], device='cuda:0')}\n",
      "{'boxes': tensor([[274,   8, 437, 188]], device='cuda:0'), 'labels': tensor([16], device='cuda:0')}\n",
      "{'boxes': tensor([[ 76.9156, 139.5890, 188.8875, 316.8339]], device='cuda:0'), 'labels': tensor([5], device='cuda:0'), 'scores': tensor([0.8859], device='cuda:0')}\n",
      "{'boxes': tensor([[117,  31, 224, 129]], device='cuda:0'), 'labels': tensor([16], device='cuda:0')}\n",
      "{'boxes': tensor([[ 76.6064, 124.9960, 192.6760, 237.7400]], device='cuda:0'), 'labels': tensor([17], device='cuda:0'), 'scores': tensor([0.8088], device='cuda:0')}\n",
      "{'boxes': tensor([[117,  31, 224, 129]], device='cuda:0'), 'labels': tensor([16], device='cuda:0')}\n",
      "{'boxes': tensor([[ 75.7891, 182.5536, 179.5232, 316.6959]], device='cuda:0'), 'labels': tensor([10], device='cuda:0'), 'scores': tensor([0.6814], device='cuda:0')}\n",
      "{'boxes': tensor([[117,  31, 224, 129]], device='cuda:0'), 'labels': tensor([16], device='cuda:0')}\n",
      "{'boxes': tensor([[114.3745,  17.0926, 225.4488, 138.7009]], device='cuda:0'), 'labels': tensor([6], device='cuda:0'), 'scores': tensor([0.9707], device='cuda:0')}\n",
      "{'boxes': tensor([[117,  31, 224, 129]], device='cuda:0'), 'labels': tensor([16], device='cuda:0')}\n",
      "{'boxes': tensor([[280.5981, 265.5207, 460.7600, 374.2905]], device='cuda:0'), 'labels': tensor([16], device='cuda:0'), 'scores': tensor([0.9309], device='cuda:0')}\n",
      "{'boxes': tensor([[277, 224, 424, 359]], device='cuda:0'), 'labels': tensor([16], device='cuda:0')}\n",
      "{'boxes': tensor([[281.1923, 224.9365, 456.7667, 371.0922]], device='cuda:0'), 'labels': tensor([14], device='cuda:0'), 'scores': tensor([0.8069], device='cuda:0')}\n",
      "{'boxes': tensor([[277, 224, 424, 359]], device='cuda:0'), 'labels': tensor([16], device='cuda:0')}\n",
      "{'boxes': tensor([[ 99.9376,  36.5611, 247.4798, 180.6550]], device='cuda:0'), 'labels': tensor([10], device='cuda:0'), 'scores': tensor([0.9983], device='cuda:0')}\n",
      "{'boxes': tensor([[107,  38, 239, 166]], device='cuda:0'), 'labels': tensor([10], device='cuda:0')}\n",
      "{'boxes': tensor([[ 32.4484,  78.0012, 202.2709, 216.0448]], device='cuda:0'), 'labels': tensor([10], device='cuda:0'), 'scores': tensor([0.9976], device='cuda:0')}\n",
      "{'boxes': tensor([[ 37,  78, 222, 210]], device='cuda:0'), 'labels': tensor([10], device='cuda:0')}\n",
      "{'boxes': tensor([[ 95.4425,  37.3189, 249.2402, 135.8780]], device='cuda:0'), 'labels': tensor([10], device='cuda:0'), 'scores': tensor([0.9847], device='cuda:0')}\n",
      "{'boxes': tensor([[107,  38, 239, 166]], device='cuda:0'), 'labels': tensor([10], device='cuda:0')}\n",
      "{'boxes': tensor([[   0.0000,    0.0000, 1938.0774, 3120.0000]], device='cuda:0'), 'labels': tensor([28], device='cuda:0'), 'scores': tensor([1.0000], device='cuda:0')}\n",
      "{'boxes': tensor([[   1,  112, 1626, 3120]], device='cuda:0'), 'labels': tensor([28], device='cuda:0')}\n",
      "{'boxes': tensor([[  0.0000,   0.0000, 291.4833, 225.0000]], device='cuda:0'), 'labels': tensor([6], device='cuda:0'), 'scores': tensor([0.5614], device='cuda:0')}\n",
      "{'boxes': tensor([[  1,   2, 299, 224]], device='cuda:0'), 'labels': tensor([7], device='cuda:0')}\n",
      "{'boxes': tensor([[3.6301e-01, 0.0000e+00, 1.1926e+03, 1.1260e+03]], device='cuda:0'), 'labels': tensor([25], device='cuda:0'), 'scores': tensor([0.7154], device='cuda:0')}\n",
      "{'boxes': tensor([[  26,   14, 1185, 1126]], device='cuda:0'), 'labels': tensor([25], device='cuda:0')}\n",
      "{'boxes': tensor([[   4.1729,  267.6214, 1235.7465,  693.4579]], device='cuda:0'), 'labels': tensor([28], device='cuda:0'), 'scores': tensor([0.9849], device='cuda:0')}\n",
      "{'boxes': tensor([[  16,  288, 1190,  808]], device='cuda:0'), 'labels': tensor([2], device='cuda:0')}\n",
      "{'boxes': tensor([[ 38.9665,  90.6693, 209.8888, 217.9876]], device='cuda:0'), 'labels': tensor([5], device='cuda:0'), 'scores': tensor([0.9885], device='cuda:0')}\n",
      "{'boxes': tensor([[ 45,  95, 212, 219]], device='cuda:0'), 'labels': tensor([15], device='cuda:0')}\n",
      "{'boxes': tensor([[200.5205, 223.1561, 307.7543, 376.2125]], device='cuda:0'), 'labels': tensor([14], device='cuda:0'), 'scores': tensor([0.9681], device='cuda:0')}\n",
      "{'boxes': tensor([[202, 224, 307, 370]], device='cuda:0'), 'labels': tensor([15], device='cuda:0')}\n",
      "{'boxes': tensor([[221.6530, 110.0082, 324.3190, 218.6508]], device='cuda:0'), 'labels': tensor([5], device='cuda:0'), 'scores': tensor([0.9192], device='cuda:0')}\n",
      "{'boxes': tensor([[218, 107, 319, 219]], device='cuda:0'), 'labels': tensor([15], device='cuda:0')}\n",
      "{'boxes': tensor([[221.7035,  32.3411, 319.4937, 130.9270]], device='cuda:0'), 'labels': tensor([5], device='cuda:0'), 'scores': tensor([1.0000], device='cuda:0')}\n",
      "{'boxes': tensor([[220,  34, 315, 133]], device='cuda:0'), 'labels': tensor([15], device='cuda:0')}\n",
      "{'boxes': tensor([[304.6108, 243.9990, 435.3534, 400.8684]], device='cuda:0'), 'labels': tensor([5], device='cuda:0'), 'scores': tensor([0.9881], device='cuda:0')}\n",
      "{'boxes': tensor([[202, 224, 307, 370]], device='cuda:0'), 'labels': tensor([15], device='cuda:0')}\n",
      "{'boxes': tensor([[455.1639,  26.3698, 538.5447, 114.2979]], device='cuda:0'), 'labels': tensor([5], device='cuda:0'), 'scores': tensor([0.7265], device='cuda:0')}\n",
      "{'boxes': tensor([[455,  24, 536, 112]], device='cuda:0'), 'labels': tensor([15], device='cuda:0')}\n",
      "{'boxes': tensor([[299.2544, 167.2898, 373.3436, 294.6562]], device='cuda:0'), 'labels': tensor([6], device='cuda:0'), 'scores': tensor([0.3751], device='cuda:0')}\n",
      "{'boxes': tensor([[218, 107, 319, 219]], device='cuda:0'), 'labels': tensor([15], device='cuda:0')}\n",
      "{'boxes': tensor([[449.8859, 253.2510, 527.6306, 444.6942]], device='cuda:0'), 'labels': tensor([14], device='cuda:0'), 'scores': tensor([0.7511], device='cuda:0')}\n",
      "{'boxes': tensor([[202, 224, 307, 370]], device='cuda:0'), 'labels': tensor([15], device='cuda:0')}\n",
      "{'boxes': tensor([[452.6929, 107.9894, 544.5845, 163.5367]], device='cuda:0'), 'labels': tensor([19], device='cuda:0'), 'scores': tensor([0.7289], device='cuda:0')}\n",
      "{'boxes': tensor([[455,  24, 536, 112]], device='cuda:0'), 'labels': tensor([15], device='cuda:0')}\n",
      "{'boxes': tensor([[387.8920,  74.0314, 467.0812, 123.3618]], device='cuda:0'), 'labels': tensor([10], device='cuda:0'), 'scores': tensor([0.9766], device='cuda:0')}\n",
      "{'boxes': tensor([[455,  24, 536, 112]], device='cuda:0'), 'labels': tensor([15], device='cuda:0')}\n",
      "{'boxes': tensor([[412.7278, 247.2097, 475.3736, 395.1292]], device='cuda:0'), 'labels': tensor([14], device='cuda:0'), 'scores': tensor([0.7586], device='cuda:0')}\n",
      "{'boxes': tensor([[202, 224, 307, 370]], device='cuda:0'), 'labels': tensor([15], device='cuda:0')}\n",
      "{'boxes': tensor([[422.5008, 245.4887, 531.4241, 440.6115]], device='cuda:0'), 'labels': tensor([14], device='cuda:0'), 'scores': tensor([0.8768], device='cuda:0')}\n",
      "{'boxes': tensor([[202, 224, 307, 370]], device='cuda:0'), 'labels': tensor([15], device='cuda:0')}\n",
      "{'boxes': tensor([[ 351.5906,  690.5366,  539.8026, 1055.2694]], device='cuda:0'), 'labels': tensor([8], device='cuda:0'), 'scores': tensor([0.9926], device='cuda:0')}\n",
      "{'boxes': tensor([[ 518,  616,  649, 1179]], device='cuda:0'), 'labels': tensor([8], device='cuda:0')}\n",
      "{'boxes': tensor([[  0.0000, 140.5260, 120.8626, 573.2479]], device='cuda:0'), 'labels': tensor([8], device='cuda:0'), 'scores': tensor([0.5091], device='cuda:0')}\n",
      "{'boxes': tensor([[  2, 132, 115, 589]], device='cuda:0'), 'labels': tensor([8], device='cuda:0')}\n",
      "{'boxes': tensor([[ 737.1014,  492.2196, 1173.8774,  828.0233]], device='cuda:0'), 'labels': tensor([17], device='cuda:0'), 'scores': tensor([0.9979], device='cuda:0')}\n",
      "{'boxes': tensor([[ 710,  501, 1170,  827]], device='cuda:0'), 'labels': tensor([17], device='cuda:0')}\n",
      "{'boxes': tensor([[ 211.3077,  400.3442,  663.1176, 1057.5173]], device='cuda:0'), 'labels': tensor([17], device='cuda:0'), 'scores': tensor([0.9997], device='cuda:0')}\n",
      "{'boxes': tensor([[ 216,  394,  615, 1019]], device='cuda:0'), 'labels': tensor([17], device='cuda:0')}\n",
      "{'boxes': tensor([[  1.4248, 192.6894, 481.1053, 552.3916]], device='cuda:0'), 'labels': tensor([17], device='cuda:0'), 'scores': tensor([0.7396], device='cuda:0')}\n",
      "{'boxes': tensor([[  1, 201, 493, 554]], device='cuda:0'), 'labels': tensor([17], device='cuda:0')}\n",
      "{'boxes': tensor([[501.4297,  91.7122, 790.3418, 412.3918]], device='cuda:0'), 'labels': tensor([17], device='cuda:0'), 'scores': tensor([1.0000], device='cuda:0')}\n",
      "{'boxes': tensor([[505,  81, 801, 459]], device='cuda:0'), 'labels': tensor([17], device='cuda:0')}\n",
      "{'boxes': tensor([[ 415.2243,  809.7596, 1209.3055, 1079.4933]], device='cuda:0'), 'labels': tensor([17], device='cuda:0'), 'scores': tensor([0.9891], device='cuda:0')}\n",
      "{'boxes': tensor([[ 710,  501, 1170,  827]], device='cuda:0'), 'labels': tensor([17], device='cuda:0')}\n",
      "{'boxes': tensor([[   0.0000,  585.5538,  321.9666, 1081.0000]], device='cuda:0'), 'labels': tensor([17], device='cuda:0'), 'scores': tensor([0.7476], device='cuda:0')}\n",
      "{'boxes': tensor([[ 216,  394,  615, 1019]], device='cuda:0'), 'labels': tensor([17], device='cuda:0')}\n",
      "{'boxes': tensor([[ 25.6955,   1.2126, 107.6164, 158.9457]], device='cuda:0'), 'labels': tensor([17], device='cuda:0'), 'scores': tensor([0.9656], device='cuda:0')}\n",
      "{'boxes': tensor([[ 70,  52, 239, 278]], device='cuda:0'), 'labels': tensor([0], device='cuda:0')}\n",
      "{'boxes': tensor([[  1.5436, 154.3445, 107.4702, 286.1967]], device='cuda:0'), 'labels': tensor([0], device='cuda:0'), 'scores': tensor([0.9676], device='cuda:0')}\n",
      "{'boxes': tensor([[  5, 153, 116, 291]], device='cuda:0'), 'labels': tensor([0], device='cuda:0')}\n",
      "{'boxes': tensor([[ 85.1440,  59.0430, 239.0000, 285.1473]], device='cuda:0'), 'labels': tensor([5], device='cuda:0'), 'scores': tensor([0.9920], device='cuda:0')}\n",
      "{'boxes': tensor([[ 70,  52, 239, 278]], device='cuda:0'), 'labels': tensor([0], device='cuda:0')}\n",
      "{'boxes': tensor([[  71.8486,  818.9601,  467.1257, 1229.8999]], device='cuda:0'), 'labels': tensor([1], device='cuda:0'), 'scores': tensor([0.9967], device='cuda:0')}\n",
      "{'boxes': tensor([[442, 610, 828, 910]], device='cuda:0'), 'labels': tensor([14], device='cuda:0')}\n",
      "{'boxes': tensor([[ 57.9120, 399.7784, 426.4553, 778.4141]], device='cuda:0'), 'labels': tensor([1], device='cuda:0'), 'scores': tensor([0.9853], device='cuda:0')}\n",
      "{'boxes': tensor([[442, 610, 828, 910]], device='cuda:0'), 'labels': tensor([14], device='cuda:0')}\n",
      "{'boxes': tensor([[ 50.1170,  22.9511, 456.5433, 409.1767]], device='cuda:0'), 'labels': tensor([17], device='cuda:0'), 'scores': tensor([0.9954], device='cuda:0')}\n",
      "{'boxes': tensor([[520, 343, 826, 661]], device='cuda:0'), 'labels': tensor([14], device='cuda:0')}\n",
      "{'boxes': tensor([[632.1907,  19.2582, 964.1005, 500.9046]], device='cuda:0'), 'labels': tensor([14], device='cuda:0'), 'scores': tensor([0.9987], device='cuda:0')}\n",
      "{'boxes': tensor([[642,  27, 962, 508]], device='cuda:0'), 'labels': tensor([14], device='cuda:0')}\n",
      "{'boxes': tensor([[ 821.0162,  623.5978, 1266.5905,  954.1867]], device='cuda:0'), 'labels': tensor([14], device='cuda:0'), 'scores': tensor([0.9998], device='cuda:0')}\n",
      "{'boxes': tensor([[ 826,  625, 1268,  953]], device='cuda:0'), 'labels': tensor([14], device='cuda:0')}\n",
      "{'boxes': tensor([[ 819.5327,  374.1875, 1197.5991,  665.4048]], device='cuda:0'), 'labels': tensor([14], device='cuda:0'), 'scores': tensor([1.], device='cuda:0')}\n",
      "{'boxes': tensor([[ 828,  380, 1181,  688]], device='cuda:0'), 'labels': tensor([14], device='cuda:0')}\n",
      "{'boxes': tensor([[507.8319, 338.4297, 823.0674, 665.8872]], device='cuda:0'), 'labels': tensor([14], device='cuda:0'), 'scores': tensor([1.], device='cuda:0')}\n",
      "{'boxes': tensor([[520, 343, 826, 661]], device='cuda:0'), 'labels': tensor([14], device='cuda:0')}\n",
      "{'boxes': tensor([[440.0722, 588.8820, 816.8652, 910.6362]], device='cuda:0'), 'labels': tensor([14], device='cuda:0'), 'scores': tensor([0.9999], device='cuda:0')}\n",
      "{'boxes': tensor([[442, 610, 828, 910]], device='cuda:0'), 'labels': tensor([14], device='cuda:0')}\n",
      "{'boxes': tensor([[443.3101, 590.3839, 778.9971, 829.2520]], device='cuda:0'), 'labels': tensor([14], device='cuda:0'), 'scores': tensor([0.9998], device='cuda:0')}\n",
      "{'boxes': tensor([[442, 610, 828, 910]], device='cuda:0'), 'labels': tensor([14], device='cuda:0')}\n",
      "{'boxes': tensor([[515.4616, 759.8852, 822.4753, 917.6571]], device='cuda:0'), 'labels': tensor([17], device='cuda:0'), 'scores': tensor([0.9969], device='cuda:0')}\n",
      "{'boxes': tensor([[442, 610, 828, 910]], device='cuda:0'), 'labels': tensor([14], device='cuda:0')}\n",
      "{'boxes': tensor([[ 844.7446,  582.4550, 1327.6147, 1195.6115]], device='cuda:0'), 'labels': tensor([14], device='cuda:0'), 'scores': tensor([0.9967], device='cuda:0')}\n",
      "{'boxes': tensor([[ 849,  584, 1332, 1200]], device='cuda:0'), 'labels': tensor([14], device='cuda:0')}\n",
      "{'boxes': tensor([[544.8120, 409.3738, 955.0259, 714.1112]], device='cuda:0'), 'labels': tensor([17], device='cuda:0'), 'scores': tensor([0.6305], device='cuda:0')}\n",
      "{'boxes': tensor([[543, 394, 921, 738]], device='cuda:0'), 'labels': tensor([14], device='cuda:0')}\n",
      "{'boxes': tensor([[ 471.6699,  673.4900,  805.2344, 1093.8458]], device='cuda:0'), 'labels': tensor([14], device='cuda:0'), 'scores': tensor([0.9998], device='cuda:0')}\n",
      "{'boxes': tensor([[ 499,  665,  808, 1096]], device='cuda:0'), 'labels': tensor([14], device='cuda:0')}\n",
      "{'boxes': tensor([[ 73.7180, 390.1423, 623.4092, 976.9946]], device='cuda:0'), 'labels': tensor([28], device='cuda:0'), 'scores': tensor([0.6237], device='cuda:0')}\n",
      "{'boxes': tensor([[ 77, 441, 662, 950]], device='cuda:0'), 'labels': tensor([14], device='cuda:0')}\n",
      "{'boxes': tensor([[ 944.0632,  350.1365, 1393.0909,  569.6711]], device='cuda:0'), 'labels': tensor([14], device='cuda:0'), 'scores': tensor([0.7211], device='cuda:0')}\n",
      "{'boxes': tensor([[ 943,  350, 1388,  577]], device='cuda:0'), 'labels': tensor([14], device='cuda:0')}\n",
      "{'boxes': tensor([[434.0261, 180.8656, 702.7473, 371.0277]], device='cuda:0'), 'labels': tensor([17], device='cuda:0'), 'scores': tensor([0.9444], device='cuda:0')}\n",
      "{'boxes': tensor([[428, 174, 716, 363]], device='cuda:0'), 'labels': tensor([14], device='cuda:0')}\n",
      "{'boxes': tensor([[ 82.1929, 381.6749, 637.1587, 795.7535]], device='cuda:0'), 'labels': tensor([14], device='cuda:0'), 'scores': tensor([0.8254], device='cuda:0')}\n",
      "{'boxes': tensor([[ 77, 441, 662, 950]], device='cuda:0'), 'labels': tensor([14], device='cuda:0')}\n",
      "{'boxes': tensor([[ 980.4298,  589.5200, 1335.7203,  978.1969]], device='cuda:0'), 'labels': tensor([14], device='cuda:0'), 'scores': tensor([0.3578], device='cuda:0')}\n",
      "{'boxes': tensor([[ 849,  584, 1332, 1200]], device='cuda:0'), 'labels': tensor([14], device='cuda:0')}\n",
      "{'boxes': tensor([[546.5321,  66.5797, 688.6503, 289.7043]], device='cuda:0'), 'labels': tensor([10], device='cuda:0'), 'scores': tensor([0.5358], device='cuda:0')}\n",
      "{'boxes': tensor([[564,  74, 683, 290]], device='cuda:0'), 'labels': tensor([10], device='cuda:0')}\n",
      "{'boxes': tensor([[589.4496, 519.5154, 735.1968, 661.4166]], device='cuda:0'), 'labels': tensor([5], device='cuda:0'), 'scores': tensor([1.0000], device='cuda:0')}\n",
      "{'boxes': tensor([[613, 313, 862, 360]], device='cuda:0'), 'labels': tensor([10], device='cuda:0')}\n",
      "{'boxes': tensor([[ 65.2203, 145.2369, 304.9869, 420.6904]], device='cuda:0'), 'labels': tensor([0], device='cuda:0'), 'scores': tensor([1.0000], device='cuda:0')}\n",
      "{'boxes': tensor([[ 92, 135, 313, 410]], device='cuda:0'), 'labels': tensor([0], device='cuda:0')}\n",
      "{'boxes': tensor([[ 0.0000,  2.2833, 97.8771, 99.0213]], device='cuda:0'), 'labels': tensor([6], device='cuda:0'), 'scores': tensor([0.9942], device='cuda:0')}\n",
      "{'boxes': tensor([[ 92, 135, 313, 410]], device='cuda:0'), 'labels': tensor([0], device='cuda:0')}\n",
      "{'boxes': tensor([[  0.0000, 249.2852, 121.7741, 425.7954]], device='cuda:0'), 'labels': tensor([5], device='cuda:0'), 'scores': tensor([0.9984], device='cuda:0')}\n",
      "{'boxes': tensor([[ 92, 135, 313, 410]], device='cuda:0'), 'labels': tensor([0], device='cuda:0')}\n",
      "{'boxes': tensor([[180.0400,  25.9225, 293.3914, 156.5739]], device='cuda:0'), 'labels': tensor([5], device='cuda:0'), 'scores': tensor([0.9968], device='cuda:0')}\n",
      "{'boxes': tensor([[ 92, 135, 313, 410]], device='cuda:0'), 'labels': tensor([0], device='cuda:0')}\n",
      "{'boxes': tensor([[326.7832,   4.8249, 382.0000,  96.5158]], device='cuda:0'), 'labels': tensor([5], device='cuda:0'), 'scores': tensor([0.9824], device='cuda:0')}\n",
      "{'boxes': tensor([[ 92, 135, 313, 410]], device='cuda:0'), 'labels': tensor([0], device='cuda:0')}\n",
      "{'boxes': tensor([[  36.0209,    6.2088,  647.6173, 1200.0000]], device='cuda:0'), 'labels': tensor([8], device='cuda:0'), 'scores': tensor([1.], device='cuda:0')}\n",
      "{'boxes': tensor([[  18,   10,  660, 1200]], device='cuda:0'), 'labels': tensor([8], device='cuda:0')}\n",
      "{'boxes': tensor([[ 62.2948, 183.2691, 187.9365, 297.8768]], device='cuda:0'), 'labels': tensor([10], device='cuda:0'), 'scores': tensor([0.9994], device='cuda:0')}\n",
      "{'boxes': tensor([[ 70, 187, 196, 299]], device='cuda:0'), 'labels': tensor([8], device='cuda:0')}\n",
      "{'boxes': tensor([[238.8282, 127.3973, 340.3428, 199.4437]], device='cuda:0'), 'labels': tensor([10], device='cuda:0'), 'scores': tensor([0.9819], device='cuda:0')}\n",
      "{'boxes': tensor([[117, 183, 348, 299]], device='cuda:0'), 'labels': tensor([8], device='cuda:0')}\n",
      "{'boxes': tensor([[141.5887, 179.8194, 309.4446, 275.3721]], device='cuda:0'), 'labels': tensor([7], device='cuda:0'), 'scores': tensor([0.3941], device='cuda:0')}\n",
      "{'boxes': tensor([[117, 183, 348, 299]], device='cuda:0'), 'labels': tensor([8], device='cuda:0')}\n",
      "{'boxes': tensor([[ 62.2297, 116.1598, 268.0084, 198.3314]], device='cuda:0'), 'labels': tensor([10], device='cuda:0'), 'scores': tensor([0.4021], device='cuda:0')}\n",
      "{'boxes': tensor([[ 35, 115, 269, 194]], device='cuda:0'), 'labels': tensor([8], device='cuda:0')}\n",
      "{'boxes': tensor([[104.1592, 278.3486, 229.5172, 475.9644]], device='cuda:0'), 'labels': tensor([10], device='cuda:0'), 'scores': tensor([0.9928], device='cuda:0')}\n",
      "{'boxes': tensor([[104, 279, 240, 481]], device='cuda:0'), 'labels': tensor([1], device='cuda:0')}\n",
      "{'boxes': tensor([[444.9168, 227.8943, 594.0709, 319.6176]], device='cuda:0'), 'labels': tensor([10], device='cuda:0'), 'scores': tensor([0.9991], device='cuda:0')}\n",
      "{'boxes': tensor([[449, 236, 579, 328]], device='cuda:0'), 'labels': tensor([1], device='cuda:0')}\n",
      "{'boxes': tensor([[329.5840, 372.6675, 410.9691, 478.0216]], device='cuda:0'), 'labels': tensor([10], device='cuda:0'), 'scores': tensor([0.9891], device='cuda:0')}\n",
      "{'boxes': tensor([[325, 374, 420, 481]], device='cuda:0'), 'labels': tensor([1], device='cuda:0')}\n",
      "{'boxes': tensor([[446.1353, 105.3205, 579.8447, 199.2177]], device='cuda:0'), 'labels': tensor([10], device='cuda:0'), 'scores': tensor([0.9994], device='cuda:0')}\n",
      "{'boxes': tensor([[446, 102, 574, 212]], device='cuda:0'), 'labels': tensor([1], device='cuda:0')}\n",
      "{'boxes': tensor([[221.2180,  11.8707, 363.7100, 182.4396]], device='cuda:0'), 'labels': tensor([10], device='cuda:0'), 'scores': tensor([0.9960], device='cuda:0')}\n",
      "{'boxes': tensor([[218,  16, 370, 187]], device='cuda:0'), 'labels': tensor([1], device='cuda:0')}\n",
      "{'boxes': tensor([[413.3179, 277.4192, 523.2275, 387.7085]], device='cuda:0'), 'labels': tensor([10], device='cuda:0'), 'scores': tensor([0.9947], device='cuda:0')}\n",
      "{'boxes': tensor([[413, 293, 534, 392]], device='cuda:0'), 'labels': tensor([1], device='cuda:0')}\n",
      "{'boxes': tensor([[417.2297,  37.2846, 560.7013, 138.4821]], device='cuda:0'), 'labels': tensor([10], device='cuda:0'), 'scores': tensor([0.9996], device='cuda:0')}\n",
      "{'boxes': tensor([[421,  31, 570, 134]], device='cuda:0'), 'labels': tensor([1], device='cuda:0')}\n",
      "{'boxes': tensor([[342.4586,  37.2888, 416.8734, 162.0150]], device='cuda:0'), 'labels': tensor([10], device='cuda:0'), 'scores': tensor([0.9538], device='cuda:0')}\n",
      "{'boxes': tensor([[349,  38, 413, 160]], device='cuda:0'), 'labels': tensor([1], device='cuda:0')}\n",
      "{'boxes': tensor([[543.1530, 310.7494, 618.0000, 468.2880]], device='cuda:0'), 'labels': tensor([10], device='cuda:0'), 'scores': tensor([1.0000], device='cuda:0')}\n",
      "{'boxes': tensor([[549, 330, 618, 469]], device='cuda:0'), 'labels': tensor([1], device='cuda:0')}\n",
      "{'boxes': tensor([[487.8949, 317.9164, 566.7607, 433.0255]], device='cuda:0'), 'labels': tensor([10], device='cuda:0'), 'scores': tensor([0.5248], device='cuda:0')}\n",
      "{'boxes': tensor([[549, 330, 618, 469]], device='cuda:0'), 'labels': tensor([1], device='cuda:0')}\n",
      "{'boxes': tensor([[270.0650, 263.4725, 385.1869, 446.9398]], device='cuda:0'), 'labels': tensor([10], device='cuda:0'), 'scores': tensor([0.8538], device='cuda:0')}\n",
      "{'boxes': tensor([[325, 374, 420, 481]], device='cuda:0'), 'labels': tensor([1], device='cuda:0')}\n",
      "{'boxes': tensor([[368.3499, 289.3529, 433.3877, 411.1361]], device='cuda:0'), 'labels': tensor([10], device='cuda:0'), 'scores': tensor([0.9971], device='cuda:0')}\n",
      "{'boxes': tensor([[413, 293, 534, 392]], device='cuda:0'), 'labels': tensor([1], device='cuda:0')}\n",
      "{'boxes': tensor([[510.5915,   8.1760, 636.3137, 350.7159]], device='cuda:0'), 'labels': tensor([19], device='cuda:0'), 'scores': tensor([0.8458], device='cuda:0')}\n",
      "{'boxes': tensor([[519,  20, 650, 349]], device='cuda:0'), 'labels': tensor([18], device='cuda:0')}\n",
      "{'boxes': tensor([[263.8044, 149.2909, 365.6270, 285.5225]], device='cuda:0'), 'labels': tensor([17], device='cuda:0'), 'scores': tensor([0.9941], device='cuda:0')}\n",
      "{'boxes': tensor([[256, 159, 369, 280]], device='cuda:0'), 'labels': tensor([20], device='cuda:0')}\n",
      "{'boxes': tensor([[423.2908,   9.4486, 507.7873, 131.4840]], device='cuda:0'), 'labels': tensor([5], device='cuda:0'), 'scores': tensor([0.9957], device='cuda:0')}\n",
      "{'boxes': tensor([[422,   4, 512, 135]], device='cuda:0'), 'labels': tensor([18], device='cuda:0')}\n",
      "{'boxes': tensor([[428.3873, 185.7987, 524.7366, 510.0000]], device='cuda:0'), 'labels': tensor([0], device='cuda:0'), 'scores': tensor([0.7108], device='cuda:0')}\n",
      "{'boxes': tensor([[519,  20, 650, 349]], device='cuda:0'), 'labels': tensor([18], device='cuda:0')}\n",
      "{'boxes': tensor([[ 74.2661,  66.7270, 267.7471, 198.2016]], device='cuda:0'), 'labels': tensor([28], device='cuda:0'), 'scores': tensor([0.8716], device='cuda:0')}\n",
      "{'boxes': tensor([[ 74,  58, 262, 184]], device='cuda:0'), 'labels': tensor([18], device='cuda:0')}\n",
      "{'boxes': tensor([[112.0199, 173.2081, 228.9766, 371.6296]], device='cuda:0'), 'labels': tensor([19], device='cuda:0'), 'scores': tensor([0.9387], device='cuda:0')}\n",
      "{'boxes': tensor([[256, 159, 369, 280]], device='cuda:0'), 'labels': tensor([20], device='cuda:0')}\n",
      "{'boxes': tensor([[337.9004, 308.8459, 433.7763, 510.0000]], device='cuda:0'), 'labels': tensor([0], device='cuda:0'), 'scores': tensor([0.9928], device='cuda:0')}\n",
      "{'boxes': tensor([[256, 159, 369, 280]], device='cuda:0'), 'labels': tensor([20], device='cuda:0')}\n",
      "{'boxes': tensor([[ 65.9697,   0.6741, 150.0000, 141.3032]], device='cuda:0'), 'labels': tensor([19], device='cuda:0'), 'scores': tensor([0.8630], device='cuda:0')}\n",
      "{'boxes': tensor([[ 68,   3, 149, 131]], device='cuda:0'), 'labels': tensor([18], device='cuda:0')}\n",
      "{'boxes': tensor([[  0.0000,   0.0000, 200.0000, 317.5842]], device='cuda:0'), 'labels': tensor([28], device='cuda:0'), 'scores': tensor([0.7243], device='cuda:0')}\n",
      "{'boxes': tensor([[  5,   1, 188, 345]], device='cuda:0'), 'labels': tensor([8], device='cuda:0')}\n",
      "{'boxes': tensor([[ 98.6633, 107.1269, 786.7472, 422.8356]], device='cuda:0'), 'labels': tensor([25], device='cuda:0'), 'scores': tensor([0.9972], device='cuda:0')}\n",
      "{'boxes': tensor([[147, 110, 764, 418]], device='cuda:0'), 'labels': tensor([25], device='cuda:0')}\n",
      "{'boxes': tensor([[138.8583, 110.2163, 611.8908, 356.8599]], device='cuda:0'), 'labels': tensor([19], device='cuda:0'), 'scores': tensor([0.9934], device='cuda:0')}\n",
      "{'boxes': tensor([[159, 113, 631, 346]], device='cuda:0'), 'labels': tensor([18], device='cuda:0')}\n",
      "{'boxes': tensor([[194.8685, 272.2818, 581.5207, 587.1330]], device='cuda:0'), 'labels': tensor([14], device='cuda:0'), 'scores': tensor([0.9995], device='cuda:0')}\n",
      "{'boxes': tensor([[191, 271, 582, 586]], device='cuda:0'), 'labels': tensor([17], device='cuda:0')}\n",
      "{'boxes': tensor([[536.7258, 281.1938, 799.6121, 645.7516]], device='cuda:0'), 'labels': tensor([17], device='cuda:0'), 'scores': tensor([0.9999], device='cuda:0')}\n",
      "{'boxes': tensor([[553, 287, 797, 656]], device='cuda:0'), 'labels': tensor([17], device='cuda:0')}\n",
      "{'boxes': tensor([[310.2438,  31.8618, 666.1796, 317.6660]], device='cuda:0'), 'labels': tensor([17], device='cuda:0'), 'scores': tensor([0.9998], device='cuda:0')}\n",
      "{'boxes': tensor([[298,  34, 667, 345]], device='cuda:0'), 'labels': tensor([17], device='cuda:0')}\n",
      "{'boxes': tensor([[139.6390, 136.8757, 264.1568, 341.3749]], device='cuda:0'), 'labels': tensor([10], device='cuda:0'), 'scores': tensor([0.3569], device='cuda:0')}\n",
      "{'boxes': tensor([[146, 141, 267, 341]], device='cuda:0'), 'labels': tensor([3], device='cuda:0')}\n",
      "{'boxes': tensor([[256.3166, 243.7192, 400.4633, 525.0000]], device='cuda:0'), 'labels': tensor([17], device='cuda:0'), 'scores': tensor([0.9417], device='cuda:0')}\n",
      "{'boxes': tensor([[260, 229, 400, 525]], device='cuda:0'), 'labels': tensor([3], device='cuda:0')}\n",
      "{'boxes': tensor([[324.3638, 118.1434, 645.9803, 327.9064]], device='cuda:0'), 'labels': tensor([17], device='cuda:0'), 'scores': tensor([0.4777], device='cuda:0')}\n",
      "{'boxes': tensor([[398, 143, 645, 330]], device='cuda:0'), 'labels': tensor([3], device='cuda:0')}\n",
      "{'boxes': tensor([[538.3879, 269.1144, 700.0000, 455.9546]], device='cuda:0'), 'labels': tensor([5], device='cuda:0'), 'scores': tensor([0.9902], device='cuda:0')}\n",
      "{'boxes': tensor([[398, 143, 645, 330]], device='cuda:0'), 'labels': tensor([3], device='cuda:0')}\n",
      "{'boxes': tensor([[271.3501,  36.9109, 575.5848, 176.4409]], device='cuda:0'), 'labels': tensor([10], device='cuda:0'), 'scores': tensor([0.9973], device='cuda:0')}\n",
      "{'boxes': tensor([[278,  39, 582, 182]], device='cuda:0'), 'labels': tensor([3], device='cuda:0')}\n",
      "{'boxes': tensor([[ 34.1498, 388.3056, 204.0642, 524.9865]], device='cuda:0'), 'labels': tensor([17], device='cuda:0'), 'scores': tensor([1.0000], device='cuda:0')}\n",
      "{'boxes': tensor([[ 45, 396, 230, 525]], device='cuda:0'), 'labels': tensor([3], device='cuda:0')}\n",
      "{'boxes': tensor([[548.7242,   4.6029, 664.9471, 238.1594]], device='cuda:0'), 'labels': tensor([17], device='cuda:0'), 'scores': tensor([0.9899], device='cuda:0')}\n",
      "{'boxes': tensor([[398, 143, 645, 330]], device='cuda:0'), 'labels': tensor([3], device='cuda:0')}\n",
      "{'boxes': tensor([[  0.0000, 239.5023, 103.1072, 489.0598]], device='cuda:0'), 'labels': tensor([17], device='cuda:0'), 'scores': tensor([0.4453], device='cuda:0')}\n",
      "{'boxes': tensor([[ 45, 396, 230, 525]], device='cuda:0'), 'labels': tensor([3], device='cuda:0')}\n",
      "{'boxes': tensor([[  1.6561, 168.7659, 465.9299, 556.3592]], device='cuda:0'), 'labels': tensor([19], device='cuda:0'), 'scores': tensor([0.9835], device='cuda:0')}\n",
      "{'boxes': tensor([[  3, 176, 462, 548]], device='cuda:0'), 'labels': tensor([19], device='cuda:0')}\n",
      "{'boxes': tensor([[138.4023,  38.2750, 750.7416, 562.3960]], device='cuda:0'), 'labels': tensor([16], device='cuda:0'), 'scores': tensor([0.7151], device='cuda:0')}\n",
      "{'boxes': tensor([[391, 373, 757, 528]], device='cuda:0'), 'labels': tensor([16], device='cuda:0')}\n",
      "{'boxes': tensor([[145.1665,  47.4890, 675.5677, 459.0105]], device='cuda:0'), 'labels': tensor([16], device='cuda:0'), 'scores': tensor([0.9998], device='cuda:0')}\n",
      "{'boxes': tensor([[276,  61, 451, 291]], device='cuda:0'), 'labels': tensor([16], device='cuda:0')}\n",
      "{'map': tensor(0.2000), 'map_50': tensor(0.2423), 'map_75': tensor(0.2301), 'map_small': tensor(-1.), 'map_medium': tensor(0.), 'map_large': tensor(0.2120), 'mar_1': tensor(0.2630), 'mar_10': tensor(0.2630), 'mar_100': tensor(0.2630), 'mar_small': tensor(-1.), 'mar_medium': tensor(0.), 'mar_large': tensor(0.2717), 'map_per_class': tensor(-1.), 'mar_100_per_class': tensor(-1.), 'classes': tensor([ 0,  1,  2,  3,  4,  5,  6,  7,  8,  9, 10, 12, 13, 14, 15, 16, 17, 18, 19, 20, 21, 23, 24, 25, 27, 28], dtype=torch.int32)}\n"
     ]
    }
   ],
   "source": [
    "metrics = torchmetrics.detection.MeanAveragePrecision().to(device)\n",
    "for i in range(len(preds)):\n",
    "    print(preds[i])\n",
    "    print(data[i])\n",
    "metrics.update(preds, data)\n",
    "print(metrics.compute())"
   ]
  }
 ],
 "metadata": {
  "kernelspec": {
   "display_name": "Python 3",
   "language": "python",
   "name": "python3"
  },
  "language_info": {
   "codemirror_mode": {
    "name": "ipython",
    "version": 3
   },
   "file_extension": ".py",
   "mimetype": "text/x-python",
   "name": "python",
   "nbconvert_exporter": "python",
   "pygments_lexer": "ipython3",
   "version": "3.10.12"
  }
 },
 "nbformat": 4,
 "nbformat_minor": 2
}
